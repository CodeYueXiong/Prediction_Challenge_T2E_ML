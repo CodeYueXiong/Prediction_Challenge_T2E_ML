{
 "cells": [
  {
   "cell_type": "code",
   "execution_count": 98,
   "id": "scheduled-longitude",
   "metadata": {},
   "outputs": [],
   "source": [
    "# load packages\n",
    "rm(list=ls())\n",
    "library(\"mlr3\")\n",
    "library(\"mlr3proba\")\n",
    "library(\"mlr3learners\")\n",
    "library(\"mlr3extralearners\")\n",
    "library(\"data.table\")\n",
    "library(\"mlr3viz\")\n",
    "library(\"mlr3tuning\")\n",
    "library(\"mlr3pipelines\")\n",
    "library(\"purrr\")\n",
    "library(\"mboost\")\n",
    "library(\"CoxBoost\")\n",
    "library(\"survival\")\n",
    "library(\"paradox\")\n",
    "library(\"ggrepel\")\n",
    "library(\"precrec\")\n",
    "library(\"ggplot2\")\n",
    "library(\"ggpubr\")\n",
    "library(\"tidyverse\")\n",
    "library(\"mlr3filters\")\n",
    "library(\"ranger\")"
   ]
  },
  {
   "cell_type": "code",
   "execution_count": 99,
   "id": "false-rescue",
   "metadata": {},
   "outputs": [],
   "source": [
    "# load the test data set\n",
    "test_data_x <- readRDS(\"~/Prediction_Challenge_T2E_ML/Data-20210107/test_list_x.Rds\")\n",
    "# read in the raw train dataset\n",
    "train_data_original <- readRDS(\"~/Prediction_Challenge_T2E_ML/Data-20210107/train_data.Rds\")\n",
    "# test_data_x\n",
    "# pred = learner$predict_newdata(test_data_x)"
   ]
  },
  {
   "cell_type": "code",
   "execution_count": 100,
   "id": "typical-piano",
   "metadata": {},
   "outputs": [],
   "source": [
    "# seperate the test set and train set\n",
    "# test_data_d1 = test_data_x$d1\n",
    "# test_data_d2 = test_data_x$d2\n",
    "# test_data_d3 = test_data_x$d3\n",
    "# test_data_d4 = test_data_x$d4\n",
    "# test_data_d5 = test_data_x$d5\n",
    "# test_data_d7 = test_data_x$d7\n",
    "# test_data_d8 = test_data_x$d8\n",
    "# test_data_d9 = test_data_x$d9\n",
    "\n",
    "train_data_d1 = train_data_original$d1\n",
    "train_data_d2 = train_data_original$d2\n",
    "train_data_d3 = train_data_original$d3\n",
    "train_data_d4 = train_data_original$d4\n",
    "train_data_d5 = train_data_original$d5\n",
    "train_data_d7 = train_data_original$d7\n",
    "train_data_d8 = train_data_original$d8\n",
    "train_data_d9 = train_data_original$d9"
   ]
  },
  {
   "cell_type": "markdown",
   "id": "faced-syndication",
   "metadata": {},
   "source": [
    "## tasks for `d1`"
   ]
  },
  {
   "cell_type": "code",
   "execution_count": 101,
   "id": "furnished-python",
   "metadata": {},
   "outputs": [
    {
     "data": {
      "text/plain": [
       "<TaskSurv:d1> (280 x 17)\n",
       "* Target: time, status\n",
       "* Properties: -\n",
       "* Features (15):\n",
       "  - dbl (11): V10, V11, V12, V13, V14, V3, V5, V6, V7, V8, V9\n",
       "  - int (3): V1, V15, V2\n",
       "  - fct (1): V4"
      ]
     },
     "metadata": {},
     "output_type": "display_data"
    },
    {
     "data": {
      "text/plain": [
       "<TaskSurv:d1> (280 x 18)\n",
       "* Target: time, status\n",
       "* Properties: -\n",
       "* Features (16):\n",
       "  - dbl (11): V10, V11, V12, V13, V14, V3, V5, V6, V7, V8, V9\n",
       "  - int (5): V1, V15, V2, V4_f, V4_m"
      ]
     },
     "metadata": {},
     "output_type": "display_data"
    }
   ],
   "source": [
    "## create the corresponding task as for the dataframe\n",
    "tsks_train_d1 <- TaskSurv$new(\"d1\", backend = train_data_d1, time = \"time\", event = \"status\")\n",
    "tsks_train_d1\n",
    "# one hot encoder\n",
    "library(data.table)\n",
    "library(mltools)\n",
    "train_oh_d1 <- one_hot(as.data.table(train_data_d1))\n",
    "# update the one hot task\n",
    "## create the corresponding task as for dataframe 1 after one-hot-encoding\n",
    "tsks_oh_d1 <- TaskSurv$new(\"d1\", backend = train_oh_d1, time = \"time\", event = \"status\")\n",
    "tsks_oh_d1"
   ]
  },
  {
   "cell_type": "markdown",
   "id": "killing-diagram",
   "metadata": {},
   "source": [
    "## tasks for `d2`"
   ]
  },
  {
   "cell_type": "code",
   "execution_count": 102,
   "id": "existing-happiness",
   "metadata": {},
   "outputs": [
    {
     "data": {
      "text/plain": [
       "<TaskSurv:df2> (552 x 20)\n",
       "* Target: time, status\n",
       "* Properties: -\n",
       "* Features (18):\n",
       "  - dbl (18): V112, V113, V1284, V1396, V1448, V1461, V1559, V1583,\n",
       "    V1609, V31, V37, V423, V578, V581, V648, V661, V736, V779"
      ]
     },
     "metadata": {},
     "output_type": "display_data"
    },
    {
     "data": {
      "text/plain": [
       "<TaskSurv:d2> (552 x 20)\n",
       "* Target: time, status\n",
       "* Properties: -\n",
       "* Features (18):\n",
       "  - dbl (18): V112, V113, V1284, V1396, V1448, V1461, V1559, V1583,\n",
       "    V1609, V31, V37, V423, V578, V581, V648, V661, V736, V779"
      ]
     },
     "metadata": {},
     "output_type": "display_data"
    }
   ],
   "source": [
    "## subset the train data\n",
    "train_flt_d2 <- subset(train_data_d2, select=c('V31','V112','V661','V779','V1559',\n",
    "                                               'V1461','V578','V1609','V1583','V736',\n",
    "                                               'V423','V1396','V1448','V1284','V648',\n",
    "                                               'V581','V37','V113', 'time','status'))\n",
    "# update the task\n",
    "tsks_flt_d2 <- TaskSurv$new(\"df2\", backend = train_flt_d2, time = \"time\", event = \"status\")\n",
    "## check the task\n",
    "tsks_flt_d2\n",
    "# one hot encoder\n",
    "library(data.table)\n",
    "library(mltools)\n",
    "train_oh_d2 <- one_hot(as.data.table(train_flt_d2))\n",
    "# update the one hot task\n",
    "## create the corresponding task as for dataframe 1 after one-hot-encoding\n",
    "tsks_oh_d2 <- TaskSurv$new(\"d2\", backend = train_oh_d2, time = \"time\", event = \"status\")\n",
    "tsks_oh_d2"
   ]
  },
  {
   "cell_type": "markdown",
   "id": "genuine-complement",
   "metadata": {},
   "source": [
    "## tasks for `d3`"
   ]
  },
  {
   "cell_type": "code",
   "execution_count": 103,
   "id": "colored-helena",
   "metadata": {},
   "outputs": [
    {
     "data": {
      "text/plain": [
       "<TaskSurv:d3> (617 x 10)\n",
       "* Target: time, status\n",
       "* Properties: -\n",
       "* Features (8):\n",
       "  - int (5): V2, V4, V6, V7, V8\n",
       "  - fct (3): V1, V3, V5"
      ]
     },
     "metadata": {},
     "output_type": "display_data"
    },
    {
     "data": {
      "text/plain": [
       "<TaskSurv:d3> (617 x 14)\n",
       "* Target: time, status\n",
       "* Properties: -\n",
       "* Features (12):\n",
       "  - int (12): V1_no, V1_yes, V2, V3_Post, V3_Pre, V4, V5_I, V5_II,\n",
       "    V5_III, V6, V7, V8"
      ]
     },
     "metadata": {},
     "output_type": "display_data"
    }
   ],
   "source": [
    "## create the corresponding task as for the dataframe\n",
    "tsks_train_d3 <- TaskSurv$new(\"d3\", backend = train_data_d3, time = \"time\", event = \"status\")\n",
    "tsks_train_d3\n",
    "# one hot encoder\n",
    "library(data.table)\n",
    "library(mltools)\n",
    "train_oh_d3 <- one_hot(as.data.table(train_data_d3))\n",
    "# update the one hot task\n",
    "## create the corresponding task as for dataframe 1 after one-hot-encoding\n",
    "tsks_oh_d3 <- TaskSurv$new(\"d3\", backend = train_oh_d3, time = \"time\", event = \"status\")\n",
    "tsks_oh_d3"
   ]
  },
  {
   "cell_type": "markdown",
   "id": "alone-siemens",
   "metadata": {},
   "source": [
    "## tasks for `d4`"
   ]
  },
  {
   "cell_type": "code",
   "execution_count": 104,
   "id": "intensive-christianity",
   "metadata": {},
   "outputs": [
    {
     "data": {
      "text/plain": [
       "<TaskSurv:d4> (698 x 9)\n",
       "* Target: time, status\n",
       "* Properties: -\n",
       "* Features (7):\n",
       "  - fct (5): V3, V4, V5, V6, V7\n",
       "  - int (2): V1, V2"
      ]
     },
     "metadata": {},
     "output_type": "display_data"
    },
    {
     "data": {
      "text/plain": [
       "<TaskSurv:d4> (698 x 14)\n",
       "* Target: time, status\n",
       "* Properties: -\n",
       "* Features (12):\n",
       "  - int (12): V1, V2, V3_female, V3_male, V4_no, V4_yes, V5_no, V5_yes,\n",
       "    V6_no, V6_yes, V7_no, V7_yes"
      ]
     },
     "metadata": {},
     "output_type": "display_data"
    }
   ],
   "source": [
    "## create the corresponding task as for the dataframe\n",
    "tsks_train_d4 <- TaskSurv$new(\"d4\", backend = train_data_d4, time = \"time\", event = \"status\")\n",
    "tsks_train_d4\n",
    "# one hot encoder\n",
    "library(data.table)\n",
    "library(mltools)\n",
    "train_oh_d4 <- one_hot(as.data.table(train_data_d4))\n",
    "# update the one hot task\n",
    "## create the corresponding task as for dataframe 1 after one-hot-encoding\n",
    "tsks_oh_d4 <- TaskSurv$new(\"d4\", backend = train_oh_d4, time = \"time\", event = \"status\")\n",
    "tsks_oh_d4"
   ]
  },
  {
   "cell_type": "markdown",
   "id": "celtic-penguin",
   "metadata": {},
   "source": [
    "## tasks for `d5`"
   ]
  },
  {
   "cell_type": "code",
   "execution_count": 105,
   "id": "selective-seattle",
   "metadata": {},
   "outputs": [
    {
     "data": {
      "text/plain": [
       "<TaskSurv:d5> (1782 x 81)\n",
       "* Target: time, status\n",
       "* Properties: -\n",
       "* Features (79):\n",
       "  - dbl (79): V1, V10, V11, V12, V13, V14, V15, V16, V17, V18, V19, V2,\n",
       "    V20, V21, V22, V23, V24, V25, V26, V27, V28, V29, V3, V30, V31,\n",
       "    V32, V33, V34, V35, V36, V37, V38, V39, V4, V40, V41, V42, V43,\n",
       "    V44, V45, V46, V47, V48, V49, V5, V50, V51, V52, V53, V54, V55,\n",
       "    V56, V57, V58, V59, V6, V60, V61, V62, V63, V64, V65, V66, V67,\n",
       "    V68, V69, V7, V70, V71, V72, V73, V74, V75, V76, V77, V78, V79, V8,\n",
       "    V9"
      ]
     },
     "metadata": {},
     "output_type": "display_data"
    },
    {
     "data": {
      "text/html": [
       "<table class=\"dataframe\">\n",
       "<caption>A data.frame: 1782 × 13</caption>\n",
       "<thead>\n",
       "\t<tr><th></th><th scope=col>V1</th><th scope=col>V6</th><th scope=col>V2</th><th scope=col>V5</th><th scope=col>V3</th><th scope=col>V4</th><th scope=col>V52</th><th scope=col>V54</th><th scope=col>V58</th><th scope=col>V64</th><th scope=col>V57</th><th scope=col>time</th><th scope=col>status</th></tr>\n",
       "\t<tr><th></th><th scope=col>&lt;dbl&gt;</th><th scope=col>&lt;dbl&gt;</th><th scope=col>&lt;dbl&gt;</th><th scope=col>&lt;dbl&gt;</th><th scope=col>&lt;dbl&gt;</th><th scope=col>&lt;dbl&gt;</th><th scope=col>&lt;dbl&gt;</th><th scope=col>&lt;dbl&gt;</th><th scope=col>&lt;dbl&gt;</th><th scope=col>&lt;dbl&gt;</th><th scope=col>&lt;dbl&gt;</th><th scope=col>&lt;dbl&gt;</th><th scope=col>&lt;dbl&gt;</th></tr>\n",
       "</thead>\n",
       "<tbody>\n",
       "\t<tr><th scope=row>1</th><td>75.65</td><td>6.04</td><td>22</td><td>16</td><td>10</td><td>2</td><td>1</td><td>0</td><td>0</td><td>1</td><td>0</td><td>2999</td><td>0</td></tr>\n",
       "\t<tr><th scope=row>2</th><td>43.19</td><td>4.02</td><td>10</td><td>25</td><td> 0</td><td>1</td><td>1</td><td>0</td><td>0</td><td>1</td><td>1</td><td>1484</td><td>0</td></tr>\n",
       "\t<tr><th scope=row>3</th><td>48.87</td><td>4.03</td><td>15</td><td>12</td><td> 1</td><td>2</td><td>1</td><td>0</td><td>1</td><td>1</td><td>0</td><td>3053</td><td>0</td></tr>\n",
       "\t<tr><th scope=row>4</th><td>47.68</td><td>4.05</td><td>25</td><td>21</td><td> 3</td><td>2</td><td>0</td><td>1</td><td>1</td><td>1</td><td>0</td><td>1721</td><td>0</td></tr>\n",
       "\t<tr><th scope=row>5</th><td>76.97</td><td>6.08</td><td>40</td><td> 8</td><td> 8</td><td>2</td><td>1</td><td>0</td><td>1</td><td>0</td><td>0</td><td>1241</td><td>1</td></tr>\n",
       "\t<tr><th scope=row>6</th><td>78.77</td><td>4.06</td><td>31</td><td>14</td><td> 0</td><td>4</td><td>0</td><td>1</td><td>1</td><td>0</td><td>0</td><td> 234</td><td>1</td></tr>\n",
       "\t<tr><th scope=row>7</th><td>56.45</td><td>4.02</td><td>10</td><td>26</td><td> 1</td><td>2</td><td>0</td><td>1</td><td>1</td><td>1</td><td>0</td><td>2947</td><td>0</td></tr>\n",
       "\t<tr><th scope=row>8</th><td>70.00</td><td>6.13</td><td>65</td><td>11</td><td> 7</td><td>3</td><td>1</td><td>0</td><td>0</td><td>1</td><td>0</td><td> 672</td><td>1</td></tr>\n",
       "\t<tr><th scope=row>9</th><td>89.08</td><td>4.06</td><td>29</td><td>24</td><td> 1</td><td>2</td><td>0</td><td>1</td><td>1</td><td>1</td><td>0</td><td>2734</td><td>1</td></tr>\n",
       "\t<tr><th scope=row>10</th><td>76.24</td><td>6.07</td><td>34</td><td>31</td><td>11</td><td>2</td><td>1</td><td>0</td><td>1</td><td>1</td><td>0</td><td>2083</td><td>0</td></tr>\n",
       "\t<tr><th scope=row>13</th><td>85.49</td><td>3.04</td><td>22</td><td>23</td><td> 0</td><td>4</td><td>0</td><td>1</td><td>0</td><td>0</td><td>1</td><td>2314</td><td>0</td></tr>\n",
       "\t<tr><th scope=row>14</th><td>70.91</td><td>2.04</td><td>21</td><td> 8</td><td> 0</td><td>1</td><td>1</td><td>0</td><td>1</td><td>1</td><td>0</td><td>2258</td><td>0</td></tr>\n",
       "\t<tr><th scope=row>15</th><td>45.27</td><td>5.04</td><td>19</td><td>15</td><td> 3</td><td>2</td><td>1</td><td>0</td><td>0</td><td>1</td><td>0</td><td>2361</td><td>0</td></tr>\n",
       "\t<tr><th scope=row>16</th><td>83.02</td><td>6.07</td><td>36</td><td>27</td><td>24</td><td>2</td><td>1</td><td>0</td><td>0</td><td>1</td><td>1</td><td> 424</td><td>1</td></tr>\n",
       "\t<tr><th scope=row>17</th><td>51.46</td><td>4.05</td><td>25</td><td>13</td><td> 1</td><td>2</td><td>0</td><td>0</td><td>0</td><td>1</td><td>0</td><td>1594</td><td>0</td></tr>\n",
       "\t<tr><th scope=row>18</th><td>43.19</td><td>4.02</td><td>10</td><td>25</td><td> 0</td><td>1</td><td>1</td><td>0</td><td>0</td><td>1</td><td>1</td><td>1784</td><td>0</td></tr>\n",
       "\t<tr><th scope=row>19</th><td>70.02</td><td>3.05</td><td>23</td><td>37</td><td> 0</td><td>2</td><td>1</td><td>0</td><td>1</td><td>1</td><td>0</td><td>2005</td><td>0</td></tr>\n",
       "\t<tr><th scope=row>20</th><td>66.91</td><td>4.07</td><td>36</td><td>20</td><td> 0</td><td>2</td><td>0</td><td>1</td><td>1</td><td>1</td><td>0</td><td>2310</td><td>0</td></tr>\n",
       "\t<tr><th scope=row>21</th><td>62.62</td><td>3.06</td><td>29</td><td>19</td><td> 0</td><td>1</td><td>1</td><td>0</td><td>1</td><td>1</td><td>0</td><td>1900</td><td>0</td></tr>\n",
       "\t<tr><th scope=row>22</th><td>75.58</td><td>4.03</td><td>17</td><td>26</td><td> 0</td><td>1</td><td>1</td><td>0</td><td>0</td><td>0</td><td>1</td><td>1718</td><td>0</td></tr>\n",
       "\t<tr><th scope=row>23</th><td>43.19</td><td>4.02</td><td>10</td><td>25</td><td> 0</td><td>1</td><td>1</td><td>0</td><td>0</td><td>1</td><td>1</td><td>1846</td><td>0</td></tr>\n",
       "\t<tr><th scope=row>24</th><td>52.14</td><td>4.03</td><td>17</td><td>19</td><td> 0</td><td>1</td><td>1</td><td>0</td><td>0</td><td>1</td><td>0</td><td>2482</td><td>0</td></tr>\n",
       "\t<tr><th scope=row>25</th><td>69.13</td><td>3.04</td><td>18</td><td> 7</td><td> 0</td><td>1</td><td>0</td><td>1</td><td>1</td><td>1</td><td>0</td><td>1420</td><td>0</td></tr>\n",
       "\t<tr><th scope=row>26</th><td>61.49</td><td>4.03</td><td>16</td><td> 2</td><td> 1</td><td>2</td><td>1</td><td>0</td><td>1</td><td>0</td><td>0</td><td>1543</td><td>0</td></tr>\n",
       "\t<tr><th scope=row>27</th><td>51.01</td><td>3.02</td><td>12</td><td>10</td><td> 1</td><td>2</td><td>1</td><td>0</td><td>0</td><td>1</td><td>1</td><td>2673</td><td>0</td></tr>\n",
       "\t<tr><th scope=row>28</th><td>68.42</td><td>4.10</td><td>50</td><td>20</td><td> 2</td><td>2</td><td>1</td><td>0</td><td>1</td><td>1</td><td>0</td><td>1583</td><td>0</td></tr>\n",
       "\t<tr><th scope=row>29</th><td>50.42</td><td>6.08</td><td>40</td><td> 7</td><td> 4</td><td>2</td><td>1</td><td>0</td><td>0</td><td>1</td><td>0</td><td> 855</td><td>1</td></tr>\n",
       "\t<tr><th scope=row>30</th><td>49.61</td><td>3.05</td><td>24</td><td> 2</td><td> 0</td><td>2</td><td>0</td><td>1</td><td>1</td><td>1</td><td>0</td><td>2149</td><td>0</td></tr>\n",
       "\t<tr><th scope=row>31</th><td>64.85</td><td>3.03</td><td>13</td><td> 2</td><td> 0</td><td>1</td><td>0</td><td>1</td><td>1</td><td>1</td><td>0</td><td>2484</td><td>1</td></tr>\n",
       "\t<tr><th scope=row>32</th><td>43.55</td><td>5.03</td><td>14</td><td> 2</td><td> 1</td><td>2</td><td>1</td><td>0</td><td>1</td><td>1</td><td>0</td><td>2063</td><td>0</td></tr>\n",
       "\t<tr><th scope=row>⋮</th><td>⋮</td><td>⋮</td><td>⋮</td><td>⋮</td><td>⋮</td><td>⋮</td><td>⋮</td><td>⋮</td><td>⋮</td><td>⋮</td><td>⋮</td><td>⋮</td><td>⋮</td></tr>\n",
       "\t<tr><th scope=row>1947</th><td>50.92</td><td>5.08</td><td>40.00</td><td>27</td><td>17</td><td>1.190352</td><td>1</td><td>0</td><td>0</td><td>1</td><td>0</td><td>1041</td><td>1</td></tr>\n",
       "\t<tr><th scope=row>1948</th><td>45.11</td><td>6.06</td><td>30.00</td><td>21</td><td> 6</td><td>1.190352</td><td>1</td><td>0</td><td>0</td><td>1</td><td>0</td><td> 452</td><td>1</td></tr>\n",
       "\t<tr><th scope=row>1949</th><td>52.41</td><td>6.05</td><td>24.15</td><td>43</td><td> 7</td><td>1.190352</td><td>0</td><td>1</td><td>0</td><td>1</td><td>0</td><td> 935</td><td>0</td></tr>\n",
       "\t<tr><th scope=row>1950</th><td>83.80</td><td>5.08</td><td>40.00</td><td> 1</td><td> 1</td><td>1.190352</td><td>0</td><td>1</td><td>0</td><td>1</td><td>0</td><td>3121</td><td>1</td></tr>\n",
       "\t<tr><th scope=row>1951</th><td>63.89</td><td>4.06</td><td>30.00</td><td>21</td><td> 2</td><td>1.190352</td><td>1</td><td>0</td><td>1</td><td>1</td><td>0</td><td>4949</td><td>1</td></tr>\n",
       "\t<tr><th scope=row>1952</th><td>60.57</td><td>6.07</td><td>35.00</td><td>28</td><td>11</td><td>1.190352</td><td>0</td><td>1</td><td>0</td><td>1</td><td>0</td><td>1289</td><td>1</td></tr>\n",
       "\t<tr><th scope=row>1953</th><td>59.82</td><td>3.08</td><td>40.00</td><td>32</td><td> 1</td><td>1.190352</td><td>0</td><td>1</td><td>1</td><td>1</td><td>0</td><td>2045</td><td>1</td></tr>\n",
       "\t<tr><th scope=row>1954</th><td>28.37</td><td>5.04</td><td>20.50</td><td>24</td><td> 3</td><td>1.190352</td><td>0</td><td>1</td><td>0</td><td>1</td><td>0</td><td>5831</td><td>0</td></tr>\n",
       "\t<tr><th scope=row>1955</th><td>34.64</td><td>5.10</td><td>50.00</td><td>21</td><td> 1</td><td>1.190352</td><td>0</td><td>1</td><td>0</td><td>1</td><td>1</td><td>5704</td><td>0</td></tr>\n",
       "\t<tr><th scope=row>1957</th><td>50.84</td><td>5.03</td><td>16.00</td><td>27</td><td> 1</td><td>1.190352</td><td>1</td><td>0</td><td>0</td><td>1</td><td>0</td><td>5255</td><td>0</td></tr>\n",
       "\t<tr><th scope=row>1960</th><td>61.27</td><td>4.04</td><td>20.00</td><td>13</td><td> 4</td><td>1.190352</td><td>1</td><td>0</td><td>0</td><td>1</td><td>1</td><td>5560</td><td>0</td></tr>\n",
       "\t<tr><th scope=row>1961</th><td>56.78</td><td>4.06</td><td>30.00</td><td>36</td><td> 3</td><td>1.190352</td><td>1</td><td>0</td><td>0</td><td>1</td><td>1</td><td>5611</td><td>0</td></tr>\n",
       "\t<tr><th scope=row>1962</th><td>67.89</td><td>4.03</td><td>15.00</td><td>26</td><td> 1</td><td>1.190352</td><td>1</td><td>0</td><td>0</td><td>1</td><td>1</td><td>5866</td><td>0</td></tr>\n",
       "\t<tr><th scope=row>1963</th><td>86.14</td><td>4.10</td><td>50.00</td><td>22</td><td> 3</td><td>1.190352</td><td>1</td><td>0</td><td>0</td><td>1</td><td>0</td><td> 639</td><td>1</td></tr>\n",
       "\t<tr><th scope=row>1965</th><td>51.22</td><td>5.03</td><td>16.00</td><td>19</td><td> 3</td><td>1.190352</td><td>0</td><td>1</td><td>0</td><td>1</td><td>0</td><td>1486</td><td>1</td></tr>\n",
       "\t<tr><th scope=row>1966</th><td>54.42</td><td>5.06</td><td>30.00</td><td>35</td><td>33</td><td>1.190352</td><td>0</td><td>1</td><td>1</td><td>1</td><td>0</td><td> 866</td><td>1</td></tr>\n",
       "\t<tr><th scope=row>1967</th><td>61.23</td><td>5.03</td><td>15.00</td><td>31</td><td> 1</td><td>1.190352</td><td>1</td><td>0</td><td>0</td><td>1</td><td>1</td><td>5998</td><td>0</td></tr>\n",
       "\t<tr><th scope=row>1968</th><td>53.14</td><td>4.04</td><td>20.00</td><td>30</td><td> 3</td><td>1.190352</td><td>0</td><td>1</td><td>1</td><td>1</td><td>0</td><td>3270</td><td>1</td></tr>\n",
       "\t<tr><th scope=row>1969</th><td>66.48</td><td>5.05</td><td>25.00</td><td>11</td><td> 3</td><td>1.190352</td><td>1</td><td>0</td><td>1</td><td>1</td><td>0</td><td>4759</td><td>1</td></tr>\n",
       "\t<tr><th scope=row>1970</th><td>63.09</td><td>6.06</td><td>30.00</td><td>25</td><td>10</td><td>1.190352</td><td>0</td><td>1</td><td>1</td><td>1</td><td>0</td><td>2909</td><td>1</td></tr>\n",
       "\t<tr><th scope=row>1971</th><td>55.70</td><td>5.06</td><td>30.00</td><td>18</td><td> 8</td><td>1.190352</td><td>1</td><td>0</td><td>1</td><td>1</td><td>0</td><td> 812</td><td>1</td></tr>\n",
       "\t<tr><th scope=row>1972</th><td>51.87</td><td>5.13</td><td>65.00</td><td>38</td><td> 5</td><td>1.190352</td><td>0</td><td>1</td><td>0</td><td>1</td><td>0</td><td>3800</td><td>1</td></tr>\n",
       "\t<tr><th scope=row>1973</th><td>53.87</td><td>6.10</td><td>50.00</td><td>39</td><td>22</td><td>1.190352</td><td>1</td><td>0</td><td>0</td><td>1</td><td>0</td><td> 205</td><td>1</td></tr>\n",
       "\t<tr><th scope=row>1974</th><td>52.90</td><td>4.03</td><td>15.00</td><td>27</td><td> 1</td><td>1.190352</td><td>1</td><td>0</td><td>1</td><td>1</td><td>0</td><td>2354</td><td>1</td></tr>\n",
       "\t<tr><th scope=row>1975</th><td>56.90</td><td>5.09</td><td>45.00</td><td>14</td><td> 1</td><td>1.190352</td><td>1</td><td>0</td><td>0</td><td>1</td><td>1</td><td>5977</td><td>0</td></tr>\n",
       "\t<tr><th scope=row>1976</th><td>59.20</td><td>4.03</td><td>15.00</td><td>20</td><td> 1</td><td>1.190352</td><td>1</td><td>0</td><td>1</td><td>1</td><td>0</td><td>2482</td><td>1</td></tr>\n",
       "\t<tr><th scope=row>1977</th><td>43.10</td><td>5.05</td><td>25.00</td><td>26</td><td> 1</td><td>1.190352</td><td>1</td><td>0</td><td>0</td><td>1</td><td>1</td><td>5906</td><td>0</td></tr>\n",
       "\t<tr><th scope=row>1978</th><td>42.88</td><td>5.04</td><td>20.00</td><td>39</td><td> 1</td><td>1.190352</td><td>1</td><td>0</td><td>1</td><td>1</td><td>0</td><td>1342</td><td>1</td></tr>\n",
       "\t<tr><th scope=row>1980</th><td>61.16</td><td>5.05</td><td>25.00</td><td>33</td><td>12</td><td>1.190352</td><td>0</td><td>1</td><td>1</td><td>1</td><td>0</td><td>2587</td><td>1</td></tr>\n",
       "\t<tr><th scope=row>1981</th><td>60.02</td><td>5.04</td><td>20.00</td><td>33</td><td> 1</td><td>1.190352</td><td>1</td><td>0</td><td>1</td><td>1</td><td>0</td><td>5893</td><td>0</td></tr>\n",
       "</tbody>\n",
       "</table>\n"
      ],
      "text/latex": [
       "A data.frame: 1782 × 13\n",
       "\\begin{tabular}{r|lllllllllllll}\n",
       "  & V1 & V6 & V2 & V5 & V3 & V4 & V52 & V54 & V58 & V64 & V57 & time & status\\\\\n",
       "  & <dbl> & <dbl> & <dbl> & <dbl> & <dbl> & <dbl> & <dbl> & <dbl> & <dbl> & <dbl> & <dbl> & <dbl> & <dbl>\\\\\n",
       "\\hline\n",
       "\t1 & 75.65 & 6.04 & 22 & 16 & 10 & 2 & 1 & 0 & 0 & 1 & 0 & 2999 & 0\\\\\n",
       "\t2 & 43.19 & 4.02 & 10 & 25 &  0 & 1 & 1 & 0 & 0 & 1 & 1 & 1484 & 0\\\\\n",
       "\t3 & 48.87 & 4.03 & 15 & 12 &  1 & 2 & 1 & 0 & 1 & 1 & 0 & 3053 & 0\\\\\n",
       "\t4 & 47.68 & 4.05 & 25 & 21 &  3 & 2 & 0 & 1 & 1 & 1 & 0 & 1721 & 0\\\\\n",
       "\t5 & 76.97 & 6.08 & 40 &  8 &  8 & 2 & 1 & 0 & 1 & 0 & 0 & 1241 & 1\\\\\n",
       "\t6 & 78.77 & 4.06 & 31 & 14 &  0 & 4 & 0 & 1 & 1 & 0 & 0 &  234 & 1\\\\\n",
       "\t7 & 56.45 & 4.02 & 10 & 26 &  1 & 2 & 0 & 1 & 1 & 1 & 0 & 2947 & 0\\\\\n",
       "\t8 & 70.00 & 6.13 & 65 & 11 &  7 & 3 & 1 & 0 & 0 & 1 & 0 &  672 & 1\\\\\n",
       "\t9 & 89.08 & 4.06 & 29 & 24 &  1 & 2 & 0 & 1 & 1 & 1 & 0 & 2734 & 1\\\\\n",
       "\t10 & 76.24 & 6.07 & 34 & 31 & 11 & 2 & 1 & 0 & 1 & 1 & 0 & 2083 & 0\\\\\n",
       "\t13 & 85.49 & 3.04 & 22 & 23 &  0 & 4 & 0 & 1 & 0 & 0 & 1 & 2314 & 0\\\\\n",
       "\t14 & 70.91 & 2.04 & 21 &  8 &  0 & 1 & 1 & 0 & 1 & 1 & 0 & 2258 & 0\\\\\n",
       "\t15 & 45.27 & 5.04 & 19 & 15 &  3 & 2 & 1 & 0 & 0 & 1 & 0 & 2361 & 0\\\\\n",
       "\t16 & 83.02 & 6.07 & 36 & 27 & 24 & 2 & 1 & 0 & 0 & 1 & 1 &  424 & 1\\\\\n",
       "\t17 & 51.46 & 4.05 & 25 & 13 &  1 & 2 & 0 & 0 & 0 & 1 & 0 & 1594 & 0\\\\\n",
       "\t18 & 43.19 & 4.02 & 10 & 25 &  0 & 1 & 1 & 0 & 0 & 1 & 1 & 1784 & 0\\\\\n",
       "\t19 & 70.02 & 3.05 & 23 & 37 &  0 & 2 & 1 & 0 & 1 & 1 & 0 & 2005 & 0\\\\\n",
       "\t20 & 66.91 & 4.07 & 36 & 20 &  0 & 2 & 0 & 1 & 1 & 1 & 0 & 2310 & 0\\\\\n",
       "\t21 & 62.62 & 3.06 & 29 & 19 &  0 & 1 & 1 & 0 & 1 & 1 & 0 & 1900 & 0\\\\\n",
       "\t22 & 75.58 & 4.03 & 17 & 26 &  0 & 1 & 1 & 0 & 0 & 0 & 1 & 1718 & 0\\\\\n",
       "\t23 & 43.19 & 4.02 & 10 & 25 &  0 & 1 & 1 & 0 & 0 & 1 & 1 & 1846 & 0\\\\\n",
       "\t24 & 52.14 & 4.03 & 17 & 19 &  0 & 1 & 1 & 0 & 0 & 1 & 0 & 2482 & 0\\\\\n",
       "\t25 & 69.13 & 3.04 & 18 &  7 &  0 & 1 & 0 & 1 & 1 & 1 & 0 & 1420 & 0\\\\\n",
       "\t26 & 61.49 & 4.03 & 16 &  2 &  1 & 2 & 1 & 0 & 1 & 0 & 0 & 1543 & 0\\\\\n",
       "\t27 & 51.01 & 3.02 & 12 & 10 &  1 & 2 & 1 & 0 & 0 & 1 & 1 & 2673 & 0\\\\\n",
       "\t28 & 68.42 & 4.10 & 50 & 20 &  2 & 2 & 1 & 0 & 1 & 1 & 0 & 1583 & 0\\\\\n",
       "\t29 & 50.42 & 6.08 & 40 &  7 &  4 & 2 & 1 & 0 & 0 & 1 & 0 &  855 & 1\\\\\n",
       "\t30 & 49.61 & 3.05 & 24 &  2 &  0 & 2 & 0 & 1 & 1 & 1 & 0 & 2149 & 0\\\\\n",
       "\t31 & 64.85 & 3.03 & 13 &  2 &  0 & 1 & 0 & 1 & 1 & 1 & 0 & 2484 & 1\\\\\n",
       "\t32 & 43.55 & 5.03 & 14 &  2 &  1 & 2 & 1 & 0 & 1 & 1 & 0 & 2063 & 0\\\\\n",
       "\t⋮ & ⋮ & ⋮ & ⋮ & ⋮ & ⋮ & ⋮ & ⋮ & ⋮ & ⋮ & ⋮ & ⋮ & ⋮ & ⋮\\\\\n",
       "\t1947 & 50.92 & 5.08 & 40.00 & 27 & 17 & 1.190352 & 1 & 0 & 0 & 1 & 0 & 1041 & 1\\\\\n",
       "\t1948 & 45.11 & 6.06 & 30.00 & 21 &  6 & 1.190352 & 1 & 0 & 0 & 1 & 0 &  452 & 1\\\\\n",
       "\t1949 & 52.41 & 6.05 & 24.15 & 43 &  7 & 1.190352 & 0 & 1 & 0 & 1 & 0 &  935 & 0\\\\\n",
       "\t1950 & 83.80 & 5.08 & 40.00 &  1 &  1 & 1.190352 & 0 & 1 & 0 & 1 & 0 & 3121 & 1\\\\\n",
       "\t1951 & 63.89 & 4.06 & 30.00 & 21 &  2 & 1.190352 & 1 & 0 & 1 & 1 & 0 & 4949 & 1\\\\\n",
       "\t1952 & 60.57 & 6.07 & 35.00 & 28 & 11 & 1.190352 & 0 & 1 & 0 & 1 & 0 & 1289 & 1\\\\\n",
       "\t1953 & 59.82 & 3.08 & 40.00 & 32 &  1 & 1.190352 & 0 & 1 & 1 & 1 & 0 & 2045 & 1\\\\\n",
       "\t1954 & 28.37 & 5.04 & 20.50 & 24 &  3 & 1.190352 & 0 & 1 & 0 & 1 & 0 & 5831 & 0\\\\\n",
       "\t1955 & 34.64 & 5.10 & 50.00 & 21 &  1 & 1.190352 & 0 & 1 & 0 & 1 & 1 & 5704 & 0\\\\\n",
       "\t1957 & 50.84 & 5.03 & 16.00 & 27 &  1 & 1.190352 & 1 & 0 & 0 & 1 & 0 & 5255 & 0\\\\\n",
       "\t1960 & 61.27 & 4.04 & 20.00 & 13 &  4 & 1.190352 & 1 & 0 & 0 & 1 & 1 & 5560 & 0\\\\\n",
       "\t1961 & 56.78 & 4.06 & 30.00 & 36 &  3 & 1.190352 & 1 & 0 & 0 & 1 & 1 & 5611 & 0\\\\\n",
       "\t1962 & 67.89 & 4.03 & 15.00 & 26 &  1 & 1.190352 & 1 & 0 & 0 & 1 & 1 & 5866 & 0\\\\\n",
       "\t1963 & 86.14 & 4.10 & 50.00 & 22 &  3 & 1.190352 & 1 & 0 & 0 & 1 & 0 &  639 & 1\\\\\n",
       "\t1965 & 51.22 & 5.03 & 16.00 & 19 &  3 & 1.190352 & 0 & 1 & 0 & 1 & 0 & 1486 & 1\\\\\n",
       "\t1966 & 54.42 & 5.06 & 30.00 & 35 & 33 & 1.190352 & 0 & 1 & 1 & 1 & 0 &  866 & 1\\\\\n",
       "\t1967 & 61.23 & 5.03 & 15.00 & 31 &  1 & 1.190352 & 1 & 0 & 0 & 1 & 1 & 5998 & 0\\\\\n",
       "\t1968 & 53.14 & 4.04 & 20.00 & 30 &  3 & 1.190352 & 0 & 1 & 1 & 1 & 0 & 3270 & 1\\\\\n",
       "\t1969 & 66.48 & 5.05 & 25.00 & 11 &  3 & 1.190352 & 1 & 0 & 1 & 1 & 0 & 4759 & 1\\\\\n",
       "\t1970 & 63.09 & 6.06 & 30.00 & 25 & 10 & 1.190352 & 0 & 1 & 1 & 1 & 0 & 2909 & 1\\\\\n",
       "\t1971 & 55.70 & 5.06 & 30.00 & 18 &  8 & 1.190352 & 1 & 0 & 1 & 1 & 0 &  812 & 1\\\\\n",
       "\t1972 & 51.87 & 5.13 & 65.00 & 38 &  5 & 1.190352 & 0 & 1 & 0 & 1 & 0 & 3800 & 1\\\\\n",
       "\t1973 & 53.87 & 6.10 & 50.00 & 39 & 22 & 1.190352 & 1 & 0 & 0 & 1 & 0 &  205 & 1\\\\\n",
       "\t1974 & 52.90 & 4.03 & 15.00 & 27 &  1 & 1.190352 & 1 & 0 & 1 & 1 & 0 & 2354 & 1\\\\\n",
       "\t1975 & 56.90 & 5.09 & 45.00 & 14 &  1 & 1.190352 & 1 & 0 & 0 & 1 & 1 & 5977 & 0\\\\\n",
       "\t1976 & 59.20 & 4.03 & 15.00 & 20 &  1 & 1.190352 & 1 & 0 & 1 & 1 & 0 & 2482 & 1\\\\\n",
       "\t1977 & 43.10 & 5.05 & 25.00 & 26 &  1 & 1.190352 & 1 & 0 & 0 & 1 & 1 & 5906 & 0\\\\\n",
       "\t1978 & 42.88 & 5.04 & 20.00 & 39 &  1 & 1.190352 & 1 & 0 & 1 & 1 & 0 & 1342 & 1\\\\\n",
       "\t1980 & 61.16 & 5.05 & 25.00 & 33 & 12 & 1.190352 & 0 & 1 & 1 & 1 & 0 & 2587 & 1\\\\\n",
       "\t1981 & 60.02 & 5.04 & 20.00 & 33 &  1 & 1.190352 & 1 & 0 & 1 & 1 & 0 & 5893 & 0\\\\\n",
       "\\end{tabular}\n"
      ],
      "text/markdown": [
       "\n",
       "A data.frame: 1782 × 13\n",
       "\n",
       "| <!--/--> | V1 &lt;dbl&gt; | V6 &lt;dbl&gt; | V2 &lt;dbl&gt; | V5 &lt;dbl&gt; | V3 &lt;dbl&gt; | V4 &lt;dbl&gt; | V52 &lt;dbl&gt; | V54 &lt;dbl&gt; | V58 &lt;dbl&gt; | V64 &lt;dbl&gt; | V57 &lt;dbl&gt; | time &lt;dbl&gt; | status &lt;dbl&gt; |\n",
       "|---|---|---|---|---|---|---|---|---|---|---|---|---|---|\n",
       "| 1 | 75.65 | 6.04 | 22 | 16 | 10 | 2 | 1 | 0 | 0 | 1 | 0 | 2999 | 0 |\n",
       "| 2 | 43.19 | 4.02 | 10 | 25 |  0 | 1 | 1 | 0 | 0 | 1 | 1 | 1484 | 0 |\n",
       "| 3 | 48.87 | 4.03 | 15 | 12 |  1 | 2 | 1 | 0 | 1 | 1 | 0 | 3053 | 0 |\n",
       "| 4 | 47.68 | 4.05 | 25 | 21 |  3 | 2 | 0 | 1 | 1 | 1 | 0 | 1721 | 0 |\n",
       "| 5 | 76.97 | 6.08 | 40 |  8 |  8 | 2 | 1 | 0 | 1 | 0 | 0 | 1241 | 1 |\n",
       "| 6 | 78.77 | 4.06 | 31 | 14 |  0 | 4 | 0 | 1 | 1 | 0 | 0 |  234 | 1 |\n",
       "| 7 | 56.45 | 4.02 | 10 | 26 |  1 | 2 | 0 | 1 | 1 | 1 | 0 | 2947 | 0 |\n",
       "| 8 | 70.00 | 6.13 | 65 | 11 |  7 | 3 | 1 | 0 | 0 | 1 | 0 |  672 | 1 |\n",
       "| 9 | 89.08 | 4.06 | 29 | 24 |  1 | 2 | 0 | 1 | 1 | 1 | 0 | 2734 | 1 |\n",
       "| 10 | 76.24 | 6.07 | 34 | 31 | 11 | 2 | 1 | 0 | 1 | 1 | 0 | 2083 | 0 |\n",
       "| 13 | 85.49 | 3.04 | 22 | 23 |  0 | 4 | 0 | 1 | 0 | 0 | 1 | 2314 | 0 |\n",
       "| 14 | 70.91 | 2.04 | 21 |  8 |  0 | 1 | 1 | 0 | 1 | 1 | 0 | 2258 | 0 |\n",
       "| 15 | 45.27 | 5.04 | 19 | 15 |  3 | 2 | 1 | 0 | 0 | 1 | 0 | 2361 | 0 |\n",
       "| 16 | 83.02 | 6.07 | 36 | 27 | 24 | 2 | 1 | 0 | 0 | 1 | 1 |  424 | 1 |\n",
       "| 17 | 51.46 | 4.05 | 25 | 13 |  1 | 2 | 0 | 0 | 0 | 1 | 0 | 1594 | 0 |\n",
       "| 18 | 43.19 | 4.02 | 10 | 25 |  0 | 1 | 1 | 0 | 0 | 1 | 1 | 1784 | 0 |\n",
       "| 19 | 70.02 | 3.05 | 23 | 37 |  0 | 2 | 1 | 0 | 1 | 1 | 0 | 2005 | 0 |\n",
       "| 20 | 66.91 | 4.07 | 36 | 20 |  0 | 2 | 0 | 1 | 1 | 1 | 0 | 2310 | 0 |\n",
       "| 21 | 62.62 | 3.06 | 29 | 19 |  0 | 1 | 1 | 0 | 1 | 1 | 0 | 1900 | 0 |\n",
       "| 22 | 75.58 | 4.03 | 17 | 26 |  0 | 1 | 1 | 0 | 0 | 0 | 1 | 1718 | 0 |\n",
       "| 23 | 43.19 | 4.02 | 10 | 25 |  0 | 1 | 1 | 0 | 0 | 1 | 1 | 1846 | 0 |\n",
       "| 24 | 52.14 | 4.03 | 17 | 19 |  0 | 1 | 1 | 0 | 0 | 1 | 0 | 2482 | 0 |\n",
       "| 25 | 69.13 | 3.04 | 18 |  7 |  0 | 1 | 0 | 1 | 1 | 1 | 0 | 1420 | 0 |\n",
       "| 26 | 61.49 | 4.03 | 16 |  2 |  1 | 2 | 1 | 0 | 1 | 0 | 0 | 1543 | 0 |\n",
       "| 27 | 51.01 | 3.02 | 12 | 10 |  1 | 2 | 1 | 0 | 0 | 1 | 1 | 2673 | 0 |\n",
       "| 28 | 68.42 | 4.10 | 50 | 20 |  2 | 2 | 1 | 0 | 1 | 1 | 0 | 1583 | 0 |\n",
       "| 29 | 50.42 | 6.08 | 40 |  7 |  4 | 2 | 1 | 0 | 0 | 1 | 0 |  855 | 1 |\n",
       "| 30 | 49.61 | 3.05 | 24 |  2 |  0 | 2 | 0 | 1 | 1 | 1 | 0 | 2149 | 0 |\n",
       "| 31 | 64.85 | 3.03 | 13 |  2 |  0 | 1 | 0 | 1 | 1 | 1 | 0 | 2484 | 1 |\n",
       "| 32 | 43.55 | 5.03 | 14 |  2 |  1 | 2 | 1 | 0 | 1 | 1 | 0 | 2063 | 0 |\n",
       "| ⋮ | ⋮ | ⋮ | ⋮ | ⋮ | ⋮ | ⋮ | ⋮ | ⋮ | ⋮ | ⋮ | ⋮ | ⋮ | ⋮ |\n",
       "| 1947 | 50.92 | 5.08 | 40.00 | 27 | 17 | 1.190352 | 1 | 0 | 0 | 1 | 0 | 1041 | 1 |\n",
       "| 1948 | 45.11 | 6.06 | 30.00 | 21 |  6 | 1.190352 | 1 | 0 | 0 | 1 | 0 |  452 | 1 |\n",
       "| 1949 | 52.41 | 6.05 | 24.15 | 43 |  7 | 1.190352 | 0 | 1 | 0 | 1 | 0 |  935 | 0 |\n",
       "| 1950 | 83.80 | 5.08 | 40.00 |  1 |  1 | 1.190352 | 0 | 1 | 0 | 1 | 0 | 3121 | 1 |\n",
       "| 1951 | 63.89 | 4.06 | 30.00 | 21 |  2 | 1.190352 | 1 | 0 | 1 | 1 | 0 | 4949 | 1 |\n",
       "| 1952 | 60.57 | 6.07 | 35.00 | 28 | 11 | 1.190352 | 0 | 1 | 0 | 1 | 0 | 1289 | 1 |\n",
       "| 1953 | 59.82 | 3.08 | 40.00 | 32 |  1 | 1.190352 | 0 | 1 | 1 | 1 | 0 | 2045 | 1 |\n",
       "| 1954 | 28.37 | 5.04 | 20.50 | 24 |  3 | 1.190352 | 0 | 1 | 0 | 1 | 0 | 5831 | 0 |\n",
       "| 1955 | 34.64 | 5.10 | 50.00 | 21 |  1 | 1.190352 | 0 | 1 | 0 | 1 | 1 | 5704 | 0 |\n",
       "| 1957 | 50.84 | 5.03 | 16.00 | 27 |  1 | 1.190352 | 1 | 0 | 0 | 1 | 0 | 5255 | 0 |\n",
       "| 1960 | 61.27 | 4.04 | 20.00 | 13 |  4 | 1.190352 | 1 | 0 | 0 | 1 | 1 | 5560 | 0 |\n",
       "| 1961 | 56.78 | 4.06 | 30.00 | 36 |  3 | 1.190352 | 1 | 0 | 0 | 1 | 1 | 5611 | 0 |\n",
       "| 1962 | 67.89 | 4.03 | 15.00 | 26 |  1 | 1.190352 | 1 | 0 | 0 | 1 | 1 | 5866 | 0 |\n",
       "| 1963 | 86.14 | 4.10 | 50.00 | 22 |  3 | 1.190352 | 1 | 0 | 0 | 1 | 0 |  639 | 1 |\n",
       "| 1965 | 51.22 | 5.03 | 16.00 | 19 |  3 | 1.190352 | 0 | 1 | 0 | 1 | 0 | 1486 | 1 |\n",
       "| 1966 | 54.42 | 5.06 | 30.00 | 35 | 33 | 1.190352 | 0 | 1 | 1 | 1 | 0 |  866 | 1 |\n",
       "| 1967 | 61.23 | 5.03 | 15.00 | 31 |  1 | 1.190352 | 1 | 0 | 0 | 1 | 1 | 5998 | 0 |\n",
       "| 1968 | 53.14 | 4.04 | 20.00 | 30 |  3 | 1.190352 | 0 | 1 | 1 | 1 | 0 | 3270 | 1 |\n",
       "| 1969 | 66.48 | 5.05 | 25.00 | 11 |  3 | 1.190352 | 1 | 0 | 1 | 1 | 0 | 4759 | 1 |\n",
       "| 1970 | 63.09 | 6.06 | 30.00 | 25 | 10 | 1.190352 | 0 | 1 | 1 | 1 | 0 | 2909 | 1 |\n",
       "| 1971 | 55.70 | 5.06 | 30.00 | 18 |  8 | 1.190352 | 1 | 0 | 1 | 1 | 0 |  812 | 1 |\n",
       "| 1972 | 51.87 | 5.13 | 65.00 | 38 |  5 | 1.190352 | 0 | 1 | 0 | 1 | 0 | 3800 | 1 |\n",
       "| 1973 | 53.87 | 6.10 | 50.00 | 39 | 22 | 1.190352 | 1 | 0 | 0 | 1 | 0 |  205 | 1 |\n",
       "| 1974 | 52.90 | 4.03 | 15.00 | 27 |  1 | 1.190352 | 1 | 0 | 1 | 1 | 0 | 2354 | 1 |\n",
       "| 1975 | 56.90 | 5.09 | 45.00 | 14 |  1 | 1.190352 | 1 | 0 | 0 | 1 | 1 | 5977 | 0 |\n",
       "| 1976 | 59.20 | 4.03 | 15.00 | 20 |  1 | 1.190352 | 1 | 0 | 1 | 1 | 0 | 2482 | 1 |\n",
       "| 1977 | 43.10 | 5.05 | 25.00 | 26 |  1 | 1.190352 | 1 | 0 | 0 | 1 | 1 | 5906 | 0 |\n",
       "| 1978 | 42.88 | 5.04 | 20.00 | 39 |  1 | 1.190352 | 1 | 0 | 1 | 1 | 0 | 1342 | 1 |\n",
       "| 1980 | 61.16 | 5.05 | 25.00 | 33 | 12 | 1.190352 | 0 | 1 | 1 | 1 | 0 | 2587 | 1 |\n",
       "| 1981 | 60.02 | 5.04 | 20.00 | 33 |  1 | 1.190352 | 1 | 0 | 1 | 1 | 0 | 5893 | 0 |\n",
       "\n"
      ],
      "text/plain": [
       "     V1    V6   V2    V5 V3 V4       V52 V54 V58 V64 V57 time status\n",
       "1    75.65 6.04 22    16 10 2        1   0   0   1   0   2999 0     \n",
       "2    43.19 4.02 10    25  0 1        1   0   0   1   1   1484 0     \n",
       "3    48.87 4.03 15    12  1 2        1   0   1   1   0   3053 0     \n",
       "4    47.68 4.05 25    21  3 2        0   1   1   1   0   1721 0     \n",
       "5    76.97 6.08 40     8  8 2        1   0   1   0   0   1241 1     \n",
       "6    78.77 4.06 31    14  0 4        0   1   1   0   0    234 1     \n",
       "7    56.45 4.02 10    26  1 2        0   1   1   1   0   2947 0     \n",
       "8    70.00 6.13 65    11  7 3        1   0   0   1   0    672 1     \n",
       "9    89.08 4.06 29    24  1 2        0   1   1   1   0   2734 1     \n",
       "10   76.24 6.07 34    31 11 2        1   0   1   1   0   2083 0     \n",
       "13   85.49 3.04 22    23  0 4        0   1   0   0   1   2314 0     \n",
       "14   70.91 2.04 21     8  0 1        1   0   1   1   0   2258 0     \n",
       "15   45.27 5.04 19    15  3 2        1   0   0   1   0   2361 0     \n",
       "16   83.02 6.07 36    27 24 2        1   0   0   1   1    424 1     \n",
       "17   51.46 4.05 25    13  1 2        0   0   0   1   0   1594 0     \n",
       "18   43.19 4.02 10    25  0 1        1   0   0   1   1   1784 0     \n",
       "19   70.02 3.05 23    37  0 2        1   0   1   1   0   2005 0     \n",
       "20   66.91 4.07 36    20  0 2        0   1   1   1   0   2310 0     \n",
       "21   62.62 3.06 29    19  0 1        1   0   1   1   0   1900 0     \n",
       "22   75.58 4.03 17    26  0 1        1   0   0   0   1   1718 0     \n",
       "23   43.19 4.02 10    25  0 1        1   0   0   1   1   1846 0     \n",
       "24   52.14 4.03 17    19  0 1        1   0   0   1   0   2482 0     \n",
       "25   69.13 3.04 18     7  0 1        0   1   1   1   0   1420 0     \n",
       "26   61.49 4.03 16     2  1 2        1   0   1   0   0   1543 0     \n",
       "27   51.01 3.02 12    10  1 2        1   0   0   1   1   2673 0     \n",
       "28   68.42 4.10 50    20  2 2        1   0   1   1   0   1583 0     \n",
       "29   50.42 6.08 40     7  4 2        1   0   0   1   0    855 1     \n",
       "30   49.61 3.05 24     2  0 2        0   1   1   1   0   2149 0     \n",
       "31   64.85 3.03 13     2  0 1        0   1   1   1   0   2484 1     \n",
       "32   43.55 5.03 14     2  1 2        1   0   1   1   0   2063 0     \n",
       "⋮    ⋮     ⋮    ⋮     ⋮  ⋮  ⋮        ⋮   ⋮   ⋮   ⋮   ⋮   ⋮    ⋮     \n",
       "1947 50.92 5.08 40.00 27 17 1.190352 1   0   0   1   0   1041 1     \n",
       "1948 45.11 6.06 30.00 21  6 1.190352 1   0   0   1   0    452 1     \n",
       "1949 52.41 6.05 24.15 43  7 1.190352 0   1   0   1   0    935 0     \n",
       "1950 83.80 5.08 40.00  1  1 1.190352 0   1   0   1   0   3121 1     \n",
       "1951 63.89 4.06 30.00 21  2 1.190352 1   0   1   1   0   4949 1     \n",
       "1952 60.57 6.07 35.00 28 11 1.190352 0   1   0   1   0   1289 1     \n",
       "1953 59.82 3.08 40.00 32  1 1.190352 0   1   1   1   0   2045 1     \n",
       "1954 28.37 5.04 20.50 24  3 1.190352 0   1   0   1   0   5831 0     \n",
       "1955 34.64 5.10 50.00 21  1 1.190352 0   1   0   1   1   5704 0     \n",
       "1957 50.84 5.03 16.00 27  1 1.190352 1   0   0   1   0   5255 0     \n",
       "1960 61.27 4.04 20.00 13  4 1.190352 1   0   0   1   1   5560 0     \n",
       "1961 56.78 4.06 30.00 36  3 1.190352 1   0   0   1   1   5611 0     \n",
       "1962 67.89 4.03 15.00 26  1 1.190352 1   0   0   1   1   5866 0     \n",
       "1963 86.14 4.10 50.00 22  3 1.190352 1   0   0   1   0    639 1     \n",
       "1965 51.22 5.03 16.00 19  3 1.190352 0   1   0   1   0   1486 1     \n",
       "1966 54.42 5.06 30.00 35 33 1.190352 0   1   1   1   0    866 1     \n",
       "1967 61.23 5.03 15.00 31  1 1.190352 1   0   0   1   1   5998 0     \n",
       "1968 53.14 4.04 20.00 30  3 1.190352 0   1   1   1   0   3270 1     \n",
       "1969 66.48 5.05 25.00 11  3 1.190352 1   0   1   1   0   4759 1     \n",
       "1970 63.09 6.06 30.00 25 10 1.190352 0   1   1   1   0   2909 1     \n",
       "1971 55.70 5.06 30.00 18  8 1.190352 1   0   1   1   0    812 1     \n",
       "1972 51.87 5.13 65.00 38  5 1.190352 0   1   0   1   0   3800 1     \n",
       "1973 53.87 6.10 50.00 39 22 1.190352 1   0   0   1   0    205 1     \n",
       "1974 52.90 4.03 15.00 27  1 1.190352 1   0   1   1   0   2354 1     \n",
       "1975 56.90 5.09 45.00 14  1 1.190352 1   0   0   1   1   5977 0     \n",
       "1976 59.20 4.03 15.00 20  1 1.190352 1   0   1   1   0   2482 1     \n",
       "1977 43.10 5.05 25.00 26  1 1.190352 1   0   0   1   1   5906 0     \n",
       "1978 42.88 5.04 20.00 39  1 1.190352 1   0   1   1   0   1342 1     \n",
       "1980 61.16 5.05 25.00 33 12 1.190352 0   1   1   1   0   2587 1     \n",
       "1981 60.02 5.04 20.00 33  1 1.190352 1   0   1   1   0   5893 0     "
      ]
     },
     "metadata": {},
     "output_type": "display_data"
    },
    {
     "data": {
      "text/plain": [
       "<TaskSurv:df5> (1782 x 13)\n",
       "* Target: time, status\n",
       "* Properties: -\n",
       "* Features (11):\n",
       "  - dbl (11): V1, V2, V3, V4, V5, V52, V54, V57, V58, V6, V64"
      ]
     },
     "metadata": {},
     "output_type": "display_data"
    },
    {
     "data": {
      "text/plain": [
       "<TaskSurv:d5> (1782 x 13)\n",
       "* Target: time, status\n",
       "* Properties: -\n",
       "* Features (11):\n",
       "  - dbl (11): V1, V2, V3, V4, V5, V52, V54, V57, V58, V6, V64"
      ]
     },
     "metadata": {},
     "output_type": "display_data"
    }
   ],
   "source": [
    "## create the corresponding task as for the dataframe\n",
    "tsks_train_d5 <- TaskSurv$new(\"d5\", backend = train_data_d5, time = \"time\", event = \"status\")\n",
    "tsks_train_d5\n",
    "\n",
    "###### feature filtering ######\n",
    "library(\"mlr3filters\") # load the required library\n",
    "library(\"ranger\")\n",
    "\n",
    "lrn = lrn(\"surv.ranger\")\n",
    "lrn$param_set$values = list(importance = \"impurity\")\n",
    "\n",
    "# set up the filter\n",
    "filter = flt(\"importance\", learner = lrn)\n",
    "filter$calculate(tsks_train_d5) # calculate the corresponding importance scores\n",
    "c_tab <- as.data.table(filter)\n",
    "# select the importance scores with >10\n",
    "c_var = c_tab$feature[c_tab$score >= 10]\n",
    "c_var = as.vector(c_var)\n",
    "c_var = append(c_var, c(\"time\", \"status\"))\n",
    "\n",
    "## subset the train data\n",
    "train_flt_d5 <- subset(train_data_d5, select=c_var)\n",
    "train_flt_d5\n",
    "\n",
    "# update the task\n",
    "tsks_flt_d5 <- TaskSurv$new(\"df5\", backend = train_flt_d5, time = \"time\", event = \"status\")\n",
    "## check the task\n",
    "tsks_flt_d5\n",
    "\n",
    "# one hot encoder\n",
    "library(data.table)\n",
    "library(mltools)\n",
    "train_oh_d5 <- one_hot(as.data.table(train_flt_d5))\n",
    "# update the one hot task\n",
    "## create the corresponding task as for dataframe 1 after one-hot-encoding\n",
    "tsks_oh_d5 <- TaskSurv$new(\"d5\", backend = train_oh_d5, time = \"time\", event = \"status\")\n",
    "tsks_oh_d5"
   ]
  },
  {
   "cell_type": "markdown",
   "id": "stable-digit",
   "metadata": {},
   "source": [
    "## tasks for `d7`"
   ]
  },
  {
   "cell_type": "code",
   "execution_count": 108,
   "id": "united-curve",
   "metadata": {},
   "outputs": [
    {
     "data": {
      "text/html": [
       "<table class=\"dataframe\">\n",
       "<caption>A data.frame: 6 × 11</caption>\n",
       "<thead>\n",
       "\t<tr><th></th><th scope=col>V1</th><th scope=col>V3</th><th scope=col>time</th><th scope=col>status</th><th scope=col>V4</th><th scope=col>V5</th><th scope=col>V6</th><th scope=col>V7</th><th scope=col>V8</th><th scope=col>V9</th><th scope=col>V10</th></tr>\n",
       "\t<tr><th></th><th scope=col>&lt;fct&gt;</th><th scope=col>&lt;int&gt;</th><th scope=col>&lt;dbl&gt;</th><th scope=col>&lt;dbl&gt;</th><th scope=col>&lt;dbl&gt;</th><th scope=col>&lt;fct&gt;</th><th scope=col>&lt;int&gt;</th><th scope=col>&lt;fct&gt;</th><th scope=col>&lt;int&gt;</th><th scope=col>&lt;dbl&gt;</th><th scope=col>&lt;fct&gt;</th></tr>\n",
       "</thead>\n",
       "<tbody>\n",
       "\t<tr><th scope=row>1</th><td>2007</td><td>1110</td><td>30.1</td><td>0</td><td>30.1</td><td>Male  </td><td>68</td><td>Surgical Elective</td><td>20</td><td>31.60321</td><td>Cardio-Vascular  </td></tr>\n",
       "\t<tr><th scope=row>2</th><td>2007</td><td>1111</td><td>30.1</td><td>0</td><td>30.1</td><td>Female</td><td>57</td><td>Medical          </td><td>22</td><td>24.34176</td><td>Respiratory      </td></tr>\n",
       "\t<tr><th scope=row>3</th><td>2007</td><td>1116</td><td> 9.8</td><td>1</td><td> 9.8</td><td>Female</td><td>68</td><td>Surgical Elective</td><td>25</td><td>17.99308</td><td>Cardio-Vascular  </td></tr>\n",
       "\t<tr><th scope=row>4</th><td>2007</td><td>1316</td><td>30.1</td><td>0</td><td>30.1</td><td>Male  </td><td>47</td><td>Medical          </td><td>16</td><td>33.74653</td><td>Orthopedic/Trauma</td></tr>\n",
       "\t<tr><th scope=row>6</th><td>2007</td><td>1414</td><td>30.1</td><td>0</td><td> 5.4</td><td>Male  </td><td>47</td><td>Medical          </td><td>21</td><td>45.00622</td><td>Respiratory      </td></tr>\n",
       "\t<tr><th scope=row>8</th><td>2007</td><td>1509</td><td>30.1</td><td>0</td><td> 6.4</td><td>Male  </td><td>58</td><td>Medical          </td><td>26</td><td>26.77593</td><td>Metabolic        </td></tr>\n",
       "</tbody>\n",
       "</table>\n"
      ],
      "text/latex": [
       "A data.frame: 6 × 11\n",
       "\\begin{tabular}{r|lllllllllll}\n",
       "  & V1 & V3 & time & status & V4 & V5 & V6 & V7 & V8 & V9 & V10\\\\\n",
       "  & <fct> & <int> & <dbl> & <dbl> & <dbl> & <fct> & <int> & <fct> & <int> & <dbl> & <fct>\\\\\n",
       "\\hline\n",
       "\t1 & 2007 & 1110 & 30.1 & 0 & 30.1 & Male   & 68 & Surgical Elective & 20 & 31.60321 & Cardio-Vascular  \\\\\n",
       "\t2 & 2007 & 1111 & 30.1 & 0 & 30.1 & Female & 57 & Medical           & 22 & 24.34176 & Respiratory      \\\\\n",
       "\t3 & 2007 & 1116 &  9.8 & 1 &  9.8 & Female & 68 & Surgical Elective & 25 & 17.99308 & Cardio-Vascular  \\\\\n",
       "\t4 & 2007 & 1316 & 30.1 & 0 & 30.1 & Male   & 47 & Medical           & 16 & 33.74653 & Orthopedic/Trauma\\\\\n",
       "\t6 & 2007 & 1414 & 30.1 & 0 &  5.4 & Male   & 47 & Medical           & 21 & 45.00622 & Respiratory      \\\\\n",
       "\t8 & 2007 & 1509 & 30.1 & 0 &  6.4 & Male   & 58 & Medical           & 26 & 26.77593 & Metabolic        \\\\\n",
       "\\end{tabular}\n"
      ],
      "text/markdown": [
       "\n",
       "A data.frame: 6 × 11\n",
       "\n",
       "| <!--/--> | V1 &lt;fct&gt; | V3 &lt;int&gt; | time &lt;dbl&gt; | status &lt;dbl&gt; | V4 &lt;dbl&gt; | V5 &lt;fct&gt; | V6 &lt;int&gt; | V7 &lt;fct&gt; | V8 &lt;int&gt; | V9 &lt;dbl&gt; | V10 &lt;fct&gt; |\n",
       "|---|---|---|---|---|---|---|---|---|---|---|---|\n",
       "| 1 | 2007 | 1110 | 30.1 | 0 | 30.1 | Male   | 68 | Surgical Elective | 20 | 31.60321 | Cardio-Vascular   |\n",
       "| 2 | 2007 | 1111 | 30.1 | 0 | 30.1 | Female | 57 | Medical           | 22 | 24.34176 | Respiratory       |\n",
       "| 3 | 2007 | 1116 |  9.8 | 1 |  9.8 | Female | 68 | Surgical Elective | 25 | 17.99308 | Cardio-Vascular   |\n",
       "| 4 | 2007 | 1316 | 30.1 | 0 | 30.1 | Male   | 47 | Medical           | 16 | 33.74653 | Orthopedic/Trauma |\n",
       "| 6 | 2007 | 1414 | 30.1 | 0 |  5.4 | Male   | 47 | Medical           | 21 | 45.00622 | Respiratory       |\n",
       "| 8 | 2007 | 1509 | 30.1 | 0 |  6.4 | Male   | 58 | Medical           | 26 | 26.77593 | Metabolic         |\n",
       "\n"
      ],
      "text/plain": [
       "  V1   V3   time status V4   V5     V6 V7                V8 V9      \n",
       "1 2007 1110 30.1 0      30.1 Male   68 Surgical Elective 20 31.60321\n",
       "2 2007 1111 30.1 0      30.1 Female 57 Medical           22 24.34176\n",
       "3 2007 1116  9.8 1       9.8 Female 68 Surgical Elective 25 17.99308\n",
       "4 2007 1316 30.1 0      30.1 Male   47 Medical           16 33.74653\n",
       "6 2007 1414 30.1 0       5.4 Male   47 Medical           21 45.00622\n",
       "8 2007 1509 30.1 0       6.4 Male   58 Medical           26 26.77593\n",
       "  V10              \n",
       "1 Cardio-Vascular  \n",
       "2 Respiratory      \n",
       "3 Cardio-Vascular  \n",
       "4 Orthopedic/Trauma\n",
       "6 Respiratory      \n",
       "8 Metabolic        "
      ]
     },
     "metadata": {},
     "output_type": "display_data"
    },
    {
     "data": {
      "text/plain": [
       "<TaskSurv:d7> (1786 x 11)\n",
       "* Target: time, status\n",
       "* Properties: -\n",
       "* Features (9):\n",
       "  - fct (4): V1, V10, V5, V7\n",
       "  - int (3): V3, V6, V8\n",
       "  - dbl (2): V4, V9"
      ]
     },
     "metadata": {},
     "output_type": "display_data"
    },
    {
     "data": {
      "text/html": [
       "<table class=\"dataframe\">\n",
       "<caption>A data.table: 6 × 25</caption>\n",
       "<thead>\n",
       "\t<tr><th scope=col>V1_2007</th><th scope=col>V1_2008</th><th scope=col>V1_2009</th><th scope=col>V1_2011</th><th scope=col>V3</th><th scope=col>time</th><th scope=col>status</th><th scope=col>V4</th><th scope=col>V5_Female</th><th scope=col>V5_Male</th><th scope=col>⋯</th><th scope=col>V9</th><th scope=col>V10_Gastrointestinal</th><th scope=col>V10_Cardio-Vascular</th><th scope=col>V10_Other</th><th scope=col>V10_Metabolic</th><th scope=col>V10_Neurologic</th><th scope=col>V10_Orthopedic/Trauma</th><th scope=col>V10_Renal</th><th scope=col>V10_Respiratory</th><th scope=col>V10_Sepsis</th></tr>\n",
       "\t<tr><th scope=col>&lt;int&gt;</th><th scope=col>&lt;int&gt;</th><th scope=col>&lt;int&gt;</th><th scope=col>&lt;int&gt;</th><th scope=col>&lt;int&gt;</th><th scope=col>&lt;dbl&gt;</th><th scope=col>&lt;dbl&gt;</th><th scope=col>&lt;dbl&gt;</th><th scope=col>&lt;int&gt;</th><th scope=col>&lt;int&gt;</th><th scope=col>⋯</th><th scope=col>&lt;dbl&gt;</th><th scope=col>&lt;int&gt;</th><th scope=col>&lt;int&gt;</th><th scope=col>&lt;int&gt;</th><th scope=col>&lt;int&gt;</th><th scope=col>&lt;int&gt;</th><th scope=col>&lt;int&gt;</th><th scope=col>&lt;int&gt;</th><th scope=col>&lt;int&gt;</th><th scope=col>&lt;int&gt;</th></tr>\n",
       "</thead>\n",
       "<tbody>\n",
       "\t<tr><td>1</td><td>0</td><td>0</td><td>0</td><td>1110</td><td>30.1</td><td>0</td><td>30.1</td><td>0</td><td>1</td><td>⋯</td><td>31.60321</td><td>0</td><td>1</td><td>0</td><td>0</td><td>0</td><td>0</td><td>0</td><td>0</td><td>0</td></tr>\n",
       "\t<tr><td>1</td><td>0</td><td>0</td><td>0</td><td>1111</td><td>30.1</td><td>0</td><td>30.1</td><td>1</td><td>0</td><td>⋯</td><td>24.34176</td><td>0</td><td>0</td><td>0</td><td>0</td><td>0</td><td>0</td><td>0</td><td>1</td><td>0</td></tr>\n",
       "\t<tr><td>1</td><td>0</td><td>0</td><td>0</td><td>1116</td><td> 9.8</td><td>1</td><td> 9.8</td><td>1</td><td>0</td><td>⋯</td><td>17.99308</td><td>0</td><td>1</td><td>0</td><td>0</td><td>0</td><td>0</td><td>0</td><td>0</td><td>0</td></tr>\n",
       "\t<tr><td>1</td><td>0</td><td>0</td><td>0</td><td>1316</td><td>30.1</td><td>0</td><td>30.1</td><td>0</td><td>1</td><td>⋯</td><td>33.74653</td><td>0</td><td>0</td><td>0</td><td>0</td><td>0</td><td>1</td><td>0</td><td>0</td><td>0</td></tr>\n",
       "\t<tr><td>1</td><td>0</td><td>0</td><td>0</td><td>1414</td><td>30.1</td><td>0</td><td> 5.4</td><td>0</td><td>1</td><td>⋯</td><td>45.00622</td><td>0</td><td>0</td><td>0</td><td>0</td><td>0</td><td>0</td><td>0</td><td>1</td><td>0</td></tr>\n",
       "\t<tr><td>1</td><td>0</td><td>0</td><td>0</td><td>1509</td><td>30.1</td><td>0</td><td> 6.4</td><td>0</td><td>1</td><td>⋯</td><td>26.77593</td><td>0</td><td>0</td><td>0</td><td>1</td><td>0</td><td>0</td><td>0</td><td>0</td><td>0</td></tr>\n",
       "</tbody>\n",
       "</table>\n"
      ],
      "text/latex": [
       "A data.table: 6 × 25\n",
       "\\begin{tabular}{lllllllllllllllllllll}\n",
       " V1\\_2007 & V1\\_2008 & V1\\_2009 & V1\\_2011 & V3 & time & status & V4 & V5\\_Female & V5\\_Male & ⋯ & V9 & V10\\_Gastrointestinal & V10\\_Cardio-Vascular & V10\\_Other & V10\\_Metabolic & V10\\_Neurologic & V10\\_Orthopedic/Trauma & V10\\_Renal & V10\\_Respiratory & V10\\_Sepsis\\\\\n",
       " <int> & <int> & <int> & <int> & <int> & <dbl> & <dbl> & <dbl> & <int> & <int> & ⋯ & <dbl> & <int> & <int> & <int> & <int> & <int> & <int> & <int> & <int> & <int>\\\\\n",
       "\\hline\n",
       "\t 1 & 0 & 0 & 0 & 1110 & 30.1 & 0 & 30.1 & 0 & 1 & ⋯ & 31.60321 & 0 & 1 & 0 & 0 & 0 & 0 & 0 & 0 & 0\\\\\n",
       "\t 1 & 0 & 0 & 0 & 1111 & 30.1 & 0 & 30.1 & 1 & 0 & ⋯ & 24.34176 & 0 & 0 & 0 & 0 & 0 & 0 & 0 & 1 & 0\\\\\n",
       "\t 1 & 0 & 0 & 0 & 1116 &  9.8 & 1 &  9.8 & 1 & 0 & ⋯ & 17.99308 & 0 & 1 & 0 & 0 & 0 & 0 & 0 & 0 & 0\\\\\n",
       "\t 1 & 0 & 0 & 0 & 1316 & 30.1 & 0 & 30.1 & 0 & 1 & ⋯ & 33.74653 & 0 & 0 & 0 & 0 & 0 & 1 & 0 & 0 & 0\\\\\n",
       "\t 1 & 0 & 0 & 0 & 1414 & 30.1 & 0 &  5.4 & 0 & 1 & ⋯ & 45.00622 & 0 & 0 & 0 & 0 & 0 & 0 & 0 & 1 & 0\\\\\n",
       "\t 1 & 0 & 0 & 0 & 1509 & 30.1 & 0 &  6.4 & 0 & 1 & ⋯ & 26.77593 & 0 & 0 & 0 & 1 & 0 & 0 & 0 & 0 & 0\\\\\n",
       "\\end{tabular}\n"
      ],
      "text/markdown": [
       "\n",
       "A data.table: 6 × 25\n",
       "\n",
       "| V1_2007 &lt;int&gt; | V1_2008 &lt;int&gt; | V1_2009 &lt;int&gt; | V1_2011 &lt;int&gt; | V3 &lt;int&gt; | time &lt;dbl&gt; | status &lt;dbl&gt; | V4 &lt;dbl&gt; | V5_Female &lt;int&gt; | V5_Male &lt;int&gt; | ⋯ ⋯ | V9 &lt;dbl&gt; | V10_Gastrointestinal &lt;int&gt; | V10_Cardio-Vascular &lt;int&gt; | V10_Other &lt;int&gt; | V10_Metabolic &lt;int&gt; | V10_Neurologic &lt;int&gt; | V10_Orthopedic/Trauma &lt;int&gt; | V10_Renal &lt;int&gt; | V10_Respiratory &lt;int&gt; | V10_Sepsis &lt;int&gt; |\n",
       "|---|---|---|---|---|---|---|---|---|---|---|---|---|---|---|---|---|---|---|---|---|\n",
       "| 1 | 0 | 0 | 0 | 1110 | 30.1 | 0 | 30.1 | 0 | 1 | ⋯ | 31.60321 | 0 | 1 | 0 | 0 | 0 | 0 | 0 | 0 | 0 |\n",
       "| 1 | 0 | 0 | 0 | 1111 | 30.1 | 0 | 30.1 | 1 | 0 | ⋯ | 24.34176 | 0 | 0 | 0 | 0 | 0 | 0 | 0 | 1 | 0 |\n",
       "| 1 | 0 | 0 | 0 | 1116 |  9.8 | 1 |  9.8 | 1 | 0 | ⋯ | 17.99308 | 0 | 1 | 0 | 0 | 0 | 0 | 0 | 0 | 0 |\n",
       "| 1 | 0 | 0 | 0 | 1316 | 30.1 | 0 | 30.1 | 0 | 1 | ⋯ | 33.74653 | 0 | 0 | 0 | 0 | 0 | 1 | 0 | 0 | 0 |\n",
       "| 1 | 0 | 0 | 0 | 1414 | 30.1 | 0 |  5.4 | 0 | 1 | ⋯ | 45.00622 | 0 | 0 | 0 | 0 | 0 | 0 | 0 | 1 | 0 |\n",
       "| 1 | 0 | 0 | 0 | 1509 | 30.1 | 0 |  6.4 | 0 | 1 | ⋯ | 26.77593 | 0 | 0 | 0 | 1 | 0 | 0 | 0 | 0 | 0 |\n",
       "\n"
      ],
      "text/plain": [
       "  V1_2007 V1_2008 V1_2009 V1_2011 V3   time status V4   V5_Female V5_Male ⋯\n",
       "1 1       0       0       0       1110 30.1 0      30.1 0         1       ⋯\n",
       "2 1       0       0       0       1111 30.1 0      30.1 1         0       ⋯\n",
       "3 1       0       0       0       1116  9.8 1       9.8 1         0       ⋯\n",
       "4 1       0       0       0       1316 30.1 0      30.1 0         1       ⋯\n",
       "5 1       0       0       0       1414 30.1 0       5.4 0         1       ⋯\n",
       "6 1       0       0       0       1509 30.1 0       6.4 0         1       ⋯\n",
       "  V9       V10_Gastrointestinal V10_Cardio-Vascular V10_Other V10_Metabolic\n",
       "1 31.60321 0                    1                   0         0            \n",
       "2 24.34176 0                    0                   0         0            \n",
       "3 17.99308 0                    1                   0         0            \n",
       "4 33.74653 0                    0                   0         0            \n",
       "5 45.00622 0                    0                   0         0            \n",
       "6 26.77593 0                    0                   0         1            \n",
       "  V10_Neurologic V10_Orthopedic/Trauma V10_Renal V10_Respiratory V10_Sepsis\n",
       "1 0              0                     0         0               0         \n",
       "2 0              0                     0         1               0         \n",
       "3 0              0                     0         0               0         \n",
       "4 0              1                     0         0               0         \n",
       "5 0              0                     0         1               0         \n",
       "6 0              0                     0         0               0         "
      ]
     },
     "metadata": {},
     "output_type": "display_data"
    },
    {
     "data": {
      "text/html": [
       "<table class=\"dataframe\">\n",
       "<caption>A data.table: 6 × 25</caption>\n",
       "<thead>\n",
       "\t<tr><th scope=col>V1_2007</th><th scope=col>V1_2008</th><th scope=col>V1_2009</th><th scope=col>V1_2011</th><th scope=col>V3</th><th scope=col>time</th><th scope=col>status</th><th scope=col>V4</th><th scope=col>V5_Female</th><th scope=col>V5_Male</th><th scope=col>⋯</th><th scope=col>V9</th><th scope=col>V10_Gastrointestinal</th><th scope=col>V10_CV</th><th scope=col>V10_Other</th><th scope=col>V10_Metabolic</th><th scope=col>V10_Neurologic</th><th scope=col>V10_OT</th><th scope=col>V10_Renal</th><th scope=col>V10_Respiratory</th><th scope=col>V10_Sepsis</th></tr>\n",
       "\t<tr><th scope=col>&lt;int&gt;</th><th scope=col>&lt;int&gt;</th><th scope=col>&lt;int&gt;</th><th scope=col>&lt;int&gt;</th><th scope=col>&lt;int&gt;</th><th scope=col>&lt;dbl&gt;</th><th scope=col>&lt;dbl&gt;</th><th scope=col>&lt;dbl&gt;</th><th scope=col>&lt;int&gt;</th><th scope=col>&lt;int&gt;</th><th scope=col>⋯</th><th scope=col>&lt;dbl&gt;</th><th scope=col>&lt;int&gt;</th><th scope=col>&lt;int&gt;</th><th scope=col>&lt;int&gt;</th><th scope=col>&lt;int&gt;</th><th scope=col>&lt;int&gt;</th><th scope=col>&lt;int&gt;</th><th scope=col>&lt;int&gt;</th><th scope=col>&lt;int&gt;</th><th scope=col>&lt;int&gt;</th></tr>\n",
       "</thead>\n",
       "<tbody>\n",
       "\t<tr><td>1</td><td>0</td><td>0</td><td>0</td><td>1110</td><td>30.1</td><td>0</td><td>30.1</td><td>0</td><td>1</td><td>⋯</td><td>31.60321</td><td>0</td><td>1</td><td>0</td><td>0</td><td>0</td><td>0</td><td>0</td><td>0</td><td>0</td></tr>\n",
       "\t<tr><td>1</td><td>0</td><td>0</td><td>0</td><td>1111</td><td>30.1</td><td>0</td><td>30.1</td><td>1</td><td>0</td><td>⋯</td><td>24.34176</td><td>0</td><td>0</td><td>0</td><td>0</td><td>0</td><td>0</td><td>0</td><td>1</td><td>0</td></tr>\n",
       "\t<tr><td>1</td><td>0</td><td>0</td><td>0</td><td>1116</td><td> 9.8</td><td>1</td><td> 9.8</td><td>1</td><td>0</td><td>⋯</td><td>17.99308</td><td>0</td><td>1</td><td>0</td><td>0</td><td>0</td><td>0</td><td>0</td><td>0</td><td>0</td></tr>\n",
       "\t<tr><td>1</td><td>0</td><td>0</td><td>0</td><td>1316</td><td>30.1</td><td>0</td><td>30.1</td><td>0</td><td>1</td><td>⋯</td><td>33.74653</td><td>0</td><td>0</td><td>0</td><td>0</td><td>0</td><td>1</td><td>0</td><td>0</td><td>0</td></tr>\n",
       "\t<tr><td>1</td><td>0</td><td>0</td><td>0</td><td>1414</td><td>30.1</td><td>0</td><td> 5.4</td><td>0</td><td>1</td><td>⋯</td><td>45.00622</td><td>0</td><td>0</td><td>0</td><td>0</td><td>0</td><td>0</td><td>0</td><td>1</td><td>0</td></tr>\n",
       "\t<tr><td>1</td><td>0</td><td>0</td><td>0</td><td>1509</td><td>30.1</td><td>0</td><td> 6.4</td><td>0</td><td>1</td><td>⋯</td><td>26.77593</td><td>0</td><td>0</td><td>0</td><td>1</td><td>0</td><td>0</td><td>0</td><td>0</td><td>0</td></tr>\n",
       "</tbody>\n",
       "</table>\n"
      ],
      "text/latex": [
       "A data.table: 6 × 25\n",
       "\\begin{tabular}{lllllllllllllllllllll}\n",
       " V1\\_2007 & V1\\_2008 & V1\\_2009 & V1\\_2011 & V3 & time & status & V4 & V5\\_Female & V5\\_Male & ⋯ & V9 & V10\\_Gastrointestinal & V10\\_CV & V10\\_Other & V10\\_Metabolic & V10\\_Neurologic & V10\\_OT & V10\\_Renal & V10\\_Respiratory & V10\\_Sepsis\\\\\n",
       " <int> & <int> & <int> & <int> & <int> & <dbl> & <dbl> & <dbl> & <int> & <int> & ⋯ & <dbl> & <int> & <int> & <int> & <int> & <int> & <int> & <int> & <int> & <int>\\\\\n",
       "\\hline\n",
       "\t 1 & 0 & 0 & 0 & 1110 & 30.1 & 0 & 30.1 & 0 & 1 & ⋯ & 31.60321 & 0 & 1 & 0 & 0 & 0 & 0 & 0 & 0 & 0\\\\\n",
       "\t 1 & 0 & 0 & 0 & 1111 & 30.1 & 0 & 30.1 & 1 & 0 & ⋯ & 24.34176 & 0 & 0 & 0 & 0 & 0 & 0 & 0 & 1 & 0\\\\\n",
       "\t 1 & 0 & 0 & 0 & 1116 &  9.8 & 1 &  9.8 & 1 & 0 & ⋯ & 17.99308 & 0 & 1 & 0 & 0 & 0 & 0 & 0 & 0 & 0\\\\\n",
       "\t 1 & 0 & 0 & 0 & 1316 & 30.1 & 0 & 30.1 & 0 & 1 & ⋯ & 33.74653 & 0 & 0 & 0 & 0 & 0 & 1 & 0 & 0 & 0\\\\\n",
       "\t 1 & 0 & 0 & 0 & 1414 & 30.1 & 0 &  5.4 & 0 & 1 & ⋯ & 45.00622 & 0 & 0 & 0 & 0 & 0 & 0 & 0 & 1 & 0\\\\\n",
       "\t 1 & 0 & 0 & 0 & 1509 & 30.1 & 0 &  6.4 & 0 & 1 & ⋯ & 26.77593 & 0 & 0 & 0 & 1 & 0 & 0 & 0 & 0 & 0\\\\\n",
       "\\end{tabular}\n"
      ],
      "text/markdown": [
       "\n",
       "A data.table: 6 × 25\n",
       "\n",
       "| V1_2007 &lt;int&gt; | V1_2008 &lt;int&gt; | V1_2009 &lt;int&gt; | V1_2011 &lt;int&gt; | V3 &lt;int&gt; | time &lt;dbl&gt; | status &lt;dbl&gt; | V4 &lt;dbl&gt; | V5_Female &lt;int&gt; | V5_Male &lt;int&gt; | ⋯ ⋯ | V9 &lt;dbl&gt; | V10_Gastrointestinal &lt;int&gt; | V10_CV &lt;int&gt; | V10_Other &lt;int&gt; | V10_Metabolic &lt;int&gt; | V10_Neurologic &lt;int&gt; | V10_OT &lt;int&gt; | V10_Renal &lt;int&gt; | V10_Respiratory &lt;int&gt; | V10_Sepsis &lt;int&gt; |\n",
       "|---|---|---|---|---|---|---|---|---|---|---|---|---|---|---|---|---|---|---|---|---|\n",
       "| 1 | 0 | 0 | 0 | 1110 | 30.1 | 0 | 30.1 | 0 | 1 | ⋯ | 31.60321 | 0 | 1 | 0 | 0 | 0 | 0 | 0 | 0 | 0 |\n",
       "| 1 | 0 | 0 | 0 | 1111 | 30.1 | 0 | 30.1 | 1 | 0 | ⋯ | 24.34176 | 0 | 0 | 0 | 0 | 0 | 0 | 0 | 1 | 0 |\n",
       "| 1 | 0 | 0 | 0 | 1116 |  9.8 | 1 |  9.8 | 1 | 0 | ⋯ | 17.99308 | 0 | 1 | 0 | 0 | 0 | 0 | 0 | 0 | 0 |\n",
       "| 1 | 0 | 0 | 0 | 1316 | 30.1 | 0 | 30.1 | 0 | 1 | ⋯ | 33.74653 | 0 | 0 | 0 | 0 | 0 | 1 | 0 | 0 | 0 |\n",
       "| 1 | 0 | 0 | 0 | 1414 | 30.1 | 0 |  5.4 | 0 | 1 | ⋯ | 45.00622 | 0 | 0 | 0 | 0 | 0 | 0 | 0 | 1 | 0 |\n",
       "| 1 | 0 | 0 | 0 | 1509 | 30.1 | 0 |  6.4 | 0 | 1 | ⋯ | 26.77593 | 0 | 0 | 0 | 1 | 0 | 0 | 0 | 0 | 0 |\n",
       "\n"
      ],
      "text/plain": [
       "  V1_2007 V1_2008 V1_2009 V1_2011 V3   time status V4   V5_Female V5_Male ⋯\n",
       "1 1       0       0       0       1110 30.1 0      30.1 0         1       ⋯\n",
       "2 1       0       0       0       1111 30.1 0      30.1 1         0       ⋯\n",
       "3 1       0       0       0       1116  9.8 1       9.8 1         0       ⋯\n",
       "4 1       0       0       0       1316 30.1 0      30.1 0         1       ⋯\n",
       "5 1       0       0       0       1414 30.1 0       5.4 0         1       ⋯\n",
       "6 1       0       0       0       1509 30.1 0       6.4 0         1       ⋯\n",
       "  V9       V10_Gastrointestinal V10_CV V10_Other V10_Metabolic V10_Neurologic\n",
       "1 31.60321 0                    1      0         0             0             \n",
       "2 24.34176 0                    0      0         0             0             \n",
       "3 17.99308 0                    1      0         0             0             \n",
       "4 33.74653 0                    0      0         0             0             \n",
       "5 45.00622 0                    0      0         0             0             \n",
       "6 26.77593 0                    0      0         1             0             \n",
       "  V10_OT V10_Renal V10_Respiratory V10_Sepsis\n",
       "1 0      0         0               0         \n",
       "2 0      0         1               0         \n",
       "3 0      0         0               0         \n",
       "4 1      0         0               0         \n",
       "5 0      0         1               0         \n",
       "6 0      0         0               0         "
      ]
     },
     "metadata": {},
     "output_type": "display_data"
    },
    {
     "data": {
      "text/plain": [
       "<TaskSurv:d7> (1786 x 25)\n",
       "* Target: time, status\n",
       "* Properties: -\n",
       "* Features (23):\n",
       "  - int (21): V10_CV, V10_Gastrointestinal, V10_Metabolic,\n",
       "    V10_Neurologic, V10_OT, V10_Other, V10_Renal, V10_Respiratory,\n",
       "    V10_Sepsis, V1_2007, V1_2008, V1_2009, V1_2011, V3, V5_Female,\n",
       "    V5_Male, V6, V7_Medical, V7_SElec, V7_SEmer, V8\n",
       "  - dbl (2): V4, V9"
      ]
     },
     "metadata": {},
     "output_type": "display_data"
    }
   ],
   "source": [
    "# drop the V2 column\n",
    "# train_data_d7 <- subset(train_data_d7, select = -c(V2))\n",
    "train_data_d7 = na.omit(train_data_d7)\n",
    "head(train_data_d7)\n",
    "## create the corresponding task as for the dataframe\n",
    "tsks_train_d7 <- TaskSurv$new(\"d7\", backend = train_data_d7, time = \"time\", event = \"status\")\n",
    "tsks_train_d7\n",
    "\n",
    "# one hot encoder\n",
    "library(data.table)\n",
    "library(mltools)\n",
    "train_oh_d7 <- one_hot(as.data.table(train_data_d7))\n",
    "head(train_oh_d7)\n",
    "# change colnames\n",
    "names(train_oh_d7)[names(train_oh_d7) ==\"V7_Surgical Elective\"] <-\"V7_SElec\"\n",
    "names(train_oh_d7)[names(train_oh_d7) ==\"V7_Surgical Emergency\"] <-\"V7_SEmer\"\n",
    "names(train_oh_d7)[names(train_oh_d7) ==\"V10_Cardio-Vascular\"] <-\"V10_CV\"\n",
    "names(train_oh_d7)[names(train_oh_d7) ==\"V10_Orthopedic/Trauma\"] <-\"V10_OT\"\n",
    "head(train_oh_d7)\n",
    "# update the one hot task\n",
    "## create the corresponding task as for dataframe 1 after one-hot-encoding\n",
    "tsks_oh_d7 <- TaskSurv$new(\"d7\", backend = train_oh_d7, time = \"time\", event = \"status\")\n",
    "tsks_oh_d7"
   ]
  },
  {
   "cell_type": "markdown",
   "id": "secure-imaging",
   "metadata": {},
   "source": [
    "## tasks for `d8`"
   ]
  },
  {
   "cell_type": "code",
   "execution_count": 109,
   "id": "recent-lodging",
   "metadata": {},
   "outputs": [
    {
     "data": {
      "text/plain": [
       "<TaskSurv:d8> (30 x 4)\n",
       "* Target: time, status\n",
       "* Properties: -\n",
       "* Features (2):\n",
       "  - int (2): V1, V2"
      ]
     },
     "metadata": {},
     "output_type": "display_data"
    },
    {
     "data": {
      "text/plain": [
       "<TaskSurv:d8> (30 x 4)\n",
       "* Target: time, status\n",
       "* Properties: -\n",
       "* Features (2):\n",
       "  - int (2): V1, V2"
      ]
     },
     "metadata": {},
     "output_type": "display_data"
    }
   ],
   "source": [
    "## create the corresponding task as for the dataframe\n",
    "tsks_train_d8 <- TaskSurv$new(\"d8\", backend = train_data_d8, time = \"time\", event = \"status\")\n",
    "tsks_train_d8\n",
    "# one hot encoder\n",
    "library(data.table)\n",
    "library(mltools)\n",
    "train_oh_d8 <- one_hot(as.data.table(train_data_d8))\n",
    "# update the one hot task\n",
    "## create the corresponding task as for dataframe 1 after one-hot-encoding\n",
    "tsks_oh_d8 <- TaskSurv$new(\"d8\", backend = train_oh_d8, time = \"time\", event = \"status\")\n",
    "tsks_oh_d8"
   ]
  },
  {
   "cell_type": "markdown",
   "id": "explicit-barbados",
   "metadata": {},
   "source": [
    "## tasks for `d9`"
   ]
  },
  {
   "cell_type": "code",
   "execution_count": 110,
   "id": "precise-vancouver",
   "metadata": {},
   "outputs": [
    {
     "data": {
      "text/plain": [
       "<TaskSurv:d9> (834 x 10)\n",
       "* Target: time, status\n",
       "* Properties: -\n",
       "* Features (8):\n",
       "  - int (8): V1, V2, V3, V4, V5, V6, V7, V8"
      ]
     },
     "metadata": {},
     "output_type": "display_data"
    },
    {
     "data": {
      "text/plain": [
       "<TaskSurv:d9> (834 x 10)\n",
       "* Target: time, status\n",
       "* Properties: -\n",
       "* Features (8):\n",
       "  - int (8): V1, V2, V3, V4, V5, V6, V7, V8"
      ]
     },
     "metadata": {},
     "output_type": "display_data"
    }
   ],
   "source": [
    "## create the corresponding task as for the dataframe\n",
    "tsks_train_d9 <- TaskSurv$new(\"d9\", backend = train_data_d9, time = \"time\", event = \"status\")\n",
    "tsks_train_d9\n",
    "# one hot encoder\n",
    "library(data.table)\n",
    "library(mltools)\n",
    "train_oh_d9 <- one_hot(as.data.table(train_data_d9))\n",
    "# update the one hot task\n",
    "## create the corresponding task as for dataframe 1 after one-hot-encoding\n",
    "tsks_oh_d9 <- TaskSurv$new(\"d9\", backend = train_oh_d9, time = \"time\", event = \"status\")\n",
    "tsks_oh_d9"
   ]
  },
  {
   "cell_type": "markdown",
   "id": "little-grammar",
   "metadata": {},
   "source": [
    "# Boosting with the AFT model\n",
    "`pred_aft`"
   ]
  },
  {
   "cell_type": "markdown",
   "id": "corresponding-video",
   "metadata": {},
   "source": [
    "- d1"
   ]
  },
  {
   "cell_type": "code",
   "execution_count": 111,
   "id": "aging-marker",
   "metadata": {},
   "outputs": [
    {
     "name": "stdout",
     "output_type": "stream",
     "text": [
      "<PredictionSurv> for 56 observations:\n",
      "    row_id time status     crank        lp\n",
      "         2 4500  FALSE -8.419804 -8.419804\n",
      "        22  673   TRUE -6.435635 -6.435635\n",
      "        28 4509  FALSE -8.516850 -8.516850\n",
      "---                                       \n",
      "       276 1153  FALSE -8.920623 -8.920623\n",
      "       278  939  FALSE -8.440098 -8.440098\n",
      "       279  839  FALSE -9.025132 -9.025132\n"
     ]
    }
   ],
   "source": [
    "lrn_aft_d1 = lrn(\"surv.mboost\", family = \"lognormal\", baselearner = \"bols\", mstop = 50, nu = 0.3875)\n",
    "# train/test split\n",
    "train_set_d1 = sample(tsks_train_d1$nrow, 0.8 * tsks_train_d1$nrow)\n",
    "test_set_d1 = setdiff(seq_len(tsks_train_d1$nrow), train_set_d1)\n",
    "# train the learner\n",
    "lrn_aft_d1$train(tsks_train_d1, row_ids = train_set_d1)\n",
    "# predict\n",
    "pred_aft_d1 = lrn_aft_d1$predict(tsks_train_d1, row_ids = test_set_d1)\n",
    "print(pred_aft_d1)"
   ]
  },
  {
   "cell_type": "markdown",
   "id": "sealed-hazard",
   "metadata": {},
   "source": [
    "- d2"
   ]
  },
  {
   "cell_type": "code",
   "execution_count": 112,
   "id": "lucky-converter",
   "metadata": {},
   "outputs": [
    {
     "name": "stdout",
     "output_type": "stream",
     "text": [
      "<PredictionSurv> for 111 observations:\n",
      "    row_id     time status     crank        lp\n",
      "         1 2.798084  FALSE -2.412609 -2.412609\n",
      "         5 2.962355  FALSE -2.127131 -2.127131\n",
      "         7 4.720055  FALSE -2.555317 -2.555317\n",
      "---                                           \n",
      "       549 2.299795   TRUE -2.524874 -2.524874\n",
      "       550 3.175907  FALSE -2.176798 -2.176798\n",
      "       551 3.195072  FALSE -2.205344 -2.205344\n"
     ]
    }
   ],
   "source": [
    "lrn_aft_d2 = lrn(\"surv.mboost\", family = \"weibull\", baselearner = \"btree\", mstop = 175, nu = 0.05)\n",
    "# train/test split\n",
    "train_set_d2 = sample(tsks_flt_d2$nrow, 0.8 * tsks_flt_d2$nrow)\n",
    "test_set_d2 = setdiff(seq_len(tsks_flt_d2$nrow), train_set_d2)\n",
    "# train the learner\n",
    "lrn_aft_d2$train(tsks_flt_d2, row_ids = train_set_d2)\n",
    "# predict\n",
    "pred_aft_d2 = lrn_aft_d2$predict(tsks_flt_d2, row_ids = test_set_d2)\n",
    "print(pred_aft_d2)"
   ]
  },
  {
   "cell_type": "markdown",
   "id": "nutritional-export",
   "metadata": {},
   "source": [
    "- d3"
   ]
  },
  {
   "cell_type": "code",
   "execution_count": 113,
   "id": "foreign-ratio",
   "metadata": {},
   "outputs": [
    {
     "name": "stdout",
     "output_type": "stream",
     "text": [
      "<PredictionSurv> for 124 observations:\n",
      "    row_id time status     crank        lp\n",
      "         6 2172  FALSE -8.205497 -8.205497\n",
      "        15 1371   TRUE -7.971562 -7.971562\n",
      "        16  707   TRUE -7.563134 -7.563134\n",
      "---                                       \n",
      "       591 2027  FALSE -7.089407 -7.089407\n",
      "       603  541  FALSE -6.308389 -6.308389\n",
      "       607 1090   TRUE -7.971562 -7.971562\n"
     ]
    }
   ],
   "source": [
    "lrn_aft_d3 = lrn(\"surv.mboost\", family = \"loglog\", baselearner = \"btree\", mstop = 200, nu = 0.05)\n",
    "# train/test split\n",
    "train_set_d3 = sample(tsks_train_d3$nrow, 0.8 * tsks_train_d3$nrow)\n",
    "test_set_d3 = setdiff(seq_len(tsks_train_d3$nrow), train_set_d3)\n",
    "# train the learner\n",
    "lrn_aft_d3$train(tsks_train_d3, row_ids = train_set_d3)\n",
    "# predict\n",
    "pred_aft_d3 = lrn_aft_d3$predict(tsks_train_d3, row_ids = test_set_d3)\n",
    "print(pred_aft_d3)"
   ]
  },
  {
   "cell_type": "markdown",
   "id": "heard-agent",
   "metadata": {},
   "source": [
    "- d4"
   ]
  },
  {
   "cell_type": "code",
   "execution_count": 114,
   "id": "dressed-ticket",
   "metadata": {},
   "outputs": [
    {
     "name": "stdout",
     "output_type": "stream",
     "text": [
      "<PredictionSurv> for 140 observations:\n",
      "    row_id time status     crank        lp\n",
      "        11 1217   TRUE -7.440561 -7.440561\n",
      "        18 1266  FALSE -6.355877 -6.355877\n",
      "        24  209   TRUE -7.823826 -7.823826\n",
      "---                                       \n",
      "       685  666   TRUE -7.851128 -7.851128\n",
      "       695  410   TRUE -6.766444 -6.766444\n",
      "       698 3065  FALSE -7.823826 -7.823826\n"
     ]
    }
   ],
   "source": [
    "lrn_aft_d4 = lrn(\"surv.mboost\", family = \"lognormal\", baselearner = \"btree\", mstop = 100, nu = 0.1625)\n",
    "# train/test split\n",
    "train_set_d4 = sample(tsks_train_d4$nrow, 0.8 * tsks_train_d4$nrow)\n",
    "test_set_d4 = setdiff(seq_len(tsks_train_d4$nrow), train_set_d4)\n",
    "# train the learner\n",
    "lrn_aft_d4$train(tsks_train_d4, row_ids = train_set_d4)\n",
    "# predict\n",
    "pred_aft_d4 = lrn_aft_d4$predict(tsks_train_d4, row_ids = test_set_d4)\n",
    "print(pred_aft_d4)"
   ]
  },
  {
   "cell_type": "markdown",
   "id": "dangerous-equation",
   "metadata": {},
   "source": [
    "- d5"
   ]
  },
  {
   "cell_type": "code",
   "execution_count": 115,
   "id": "awful-vegetation",
   "metadata": {},
   "outputs": [
    {
     "name": "stdout",
     "output_type": "stream",
     "text": [
      "<PredictionSurv> for 357 observations:\n",
      "    row_id time status     crank        lp\n",
      "         4 1721  FALSE -8.587121 -8.587121\n",
      "        14  424   TRUE -6.599394 -6.599394\n",
      "        19 1900  FALSE -8.574454 -8.574454\n",
      "---                                       \n",
      "      1778 2482   TRUE -8.754123 -8.754123\n",
      "      1780 1342   TRUE -8.216144 -8.216144\n",
      "      1782 5893  FALSE -8.536600 -8.536600\n"
     ]
    }
   ],
   "source": [
    "lrn_aft_d5 = lrn(\"surv.mboost\", family = \"loglog\", baselearner = \"btree\", mstop = 50, nu = 0.3875)\n",
    "# train/test split\n",
    "train_set_d5 = sample(tsks_flt_d5$nrow, 0.8 * tsks_flt_d5$nrow)\n",
    "test_set_d5 = setdiff(seq_len(tsks_flt_d5$nrow), train_set_d5)\n",
    "# train the learner\n",
    "lrn_aft_d5$train(tsks_flt_d5, row_ids = train_set_d5)\n",
    "# predict\n",
    "pred_aft_d5 = lrn_aft_d5$predict(tsks_flt_d5, row_ids = test_set_d5)\n",
    "print(pred_aft_d5)"
   ]
  },
  {
   "cell_type": "markdown",
   "id": "saving-stevens",
   "metadata": {},
   "source": [
    "- d7"
   ]
  },
  {
   "cell_type": "code",
   "execution_count": 116,
   "id": "forward-composite",
   "metadata": {},
   "outputs": [
    {
     "name": "stdout",
     "output_type": "stream",
     "text": [
      "<PredictionSurv> for 358 observations:\n",
      "    row_id time status     crank        lp\n",
      "         3  9.8   TRUE -3.520902 -3.520902\n",
      "         9 30.1  FALSE -6.505640 -6.505640\n",
      "        14 30.1  FALSE -5.173796 -5.173796\n",
      "---                                       \n",
      "      1782 13.8   TRUE -4.007648 -4.007648\n",
      "      1783 30.1  FALSE -3.233591 -3.233591\n",
      "      1785  6.5   TRUE -2.971784 -2.971784\n"
     ]
    }
   ],
   "source": [
    "lrn_aft_d7 = lrn(\"surv.mboost\", family = \"lognormal\", baselearner = \"bols\", mstop = 245, nu = 0.4)\n",
    "# train/test split\n",
    "train_set_d7 = sample(tsks_train_d7$nrow, 0.8 * tsks_train_d7$nrow)\n",
    "test_set_d7 = setdiff(seq_len(tsks_train_d7$nrow), train_set_d7)\n",
    "# train the learner\n",
    "lrn_aft_d7$train(tsks_train_d7, row_ids = train_set_d7)\n",
    "# predict\n",
    "pred_aft_d7 = lrn_aft_d7$predict(tsks_train_d7, row_ids = test_set_d7)\n",
    "print(pred_aft_d7)"
   ]
  },
  {
   "cell_type": "markdown",
   "id": "dangerous-genetics",
   "metadata": {},
   "source": [
    "- d8"
   ]
  },
  {
   "cell_type": "code",
   "execution_count": 117,
   "id": "tired-punch",
   "metadata": {},
   "outputs": [
    {
     "name": "stdout",
     "output_type": "stream",
     "text": [
      "<PredictionSurv> for 6 observations:\n",
      " row_id time status     crank        lp\n",
      "      7   57  FALSE -4.074988 -4.074988\n",
      "      8   93   TRUE -2.999448 -2.999448\n",
      "     15   18   TRUE -3.767887 -3.767887\n",
      "     19   77   TRUE -4.351985 -4.351985\n",
      "     24   60  FALSE -3.985408 -3.985408\n",
      "     27   18   TRUE -3.358657 -3.358657\n"
     ]
    }
   ],
   "source": [
    "lrn_aft_d8 = lrn(\"surv.mboost\", family = \"lognormal\", baselearner = \"btree\", mstop = 161, nu = 0.5)\n",
    "# train/test split\n",
    "train_set_d8 = sample(tsks_train_d8$nrow, 0.8 * tsks_train_d8$nrow)\n",
    "test_set_d8 = setdiff(seq_len(tsks_train_d8$nrow), train_set_d8)\n",
    "# train the learner\n",
    "lrn_aft_d8$train(tsks_train_d8, row_ids = train_set_d8)\n",
    "# predict\n",
    "pred_aft_d8 = lrn_aft_d8$predict(tsks_train_d8, row_ids = test_set_d8)\n",
    "print(pred_aft_d8)"
   ]
  },
  {
   "cell_type": "markdown",
   "id": "bearing-hormone",
   "metadata": {},
   "source": [
    "- d9"
   ]
  },
  {
   "cell_type": "code",
   "execution_count": 118,
   "id": "fewer-procedure",
   "metadata": {},
   "outputs": [
    {
     "name": "stdout",
     "output_type": "stream",
     "text": [
      "<PredictionSurv> for 167 observations:\n",
      "    row_id time status     crank        lp\n",
      "         4    3   TRUE -1.415349 -1.415349\n",
      "         7    8  FALSE -1.868738 -1.868738\n",
      "        14    5   TRUE -2.295124 -2.295124\n",
      "---                                       \n",
      "       827    2   TRUE -2.500877 -2.500877\n",
      "       828    3   TRUE -2.370825 -2.370825\n",
      "       829    1   TRUE -1.964833 -1.964833\n"
     ]
    }
   ],
   "source": [
    "lrn_aft_d9 = lrn(\"surv.mboost\", family = \"loglog\", baselearner = \"bols\", mstop = 175, nu = 0.1625)\n",
    "# train/test split\n",
    "train_set_d9 = sample(tsks_train_d9$nrow, 0.8 * tsks_train_d9$nrow)\n",
    "test_set_d9 = setdiff(seq_len(tsks_train_d9$nrow), train_set_d9)\n",
    "# train the learner\n",
    "lrn_aft_d9$train(tsks_train_d9, row_ids = train_set_d9)\n",
    "# predict\n",
    "pred_aft_d9 = lrn_aft_d9$predict(tsks_train_d9, row_ids = test_set_d9)\n",
    "print(pred_aft_d9)"
   ]
  },
  {
   "cell_type": "code",
   "execution_count": 142,
   "id": "alive-guard",
   "metadata": {},
   "outputs": [],
   "source": [
    "pred_aft <- list(pred_aft_d1, pred_aft_d2, pred_aft_d3, pred_aft_d4,\n",
    "                 pred_aft_d5, pred_aft_d7, pred_aft_d8, pred_aft_d9)"
   ]
  },
  {
   "cell_type": "markdown",
   "id": "critical-interval",
   "metadata": {},
   "source": [
    "get the aft learner list"
   ]
  },
  {
   "cell_type": "code",
   "execution_count": null,
   "id": "decimal-arthritis",
   "metadata": {},
   "outputs": [],
   "source": [
    "lrn_aft <- list(lrn_aft_d1, lrn_aft_d2, lrn_aft_d3, lrn_aft_d4,\n",
    "                lrn_aft_d5, lrn_aft_d7, lrn_aft_d8, lrn_aft_d9)"
   ]
  },
  {
   "cell_type": "markdown",
   "id": "mental-cruise",
   "metadata": {},
   "source": [
    "# mboost\n",
    "`pred_mb`"
   ]
  },
  {
   "cell_type": "markdown",
   "id": "explicit-tomorrow",
   "metadata": {},
   "source": [
    "- d1"
   ]
  },
  {
   "cell_type": "code",
   "execution_count": 119,
   "id": "democratic-ability",
   "metadata": {},
   "outputs": [
    {
     "name": "stdout",
     "output_type": "stream",
     "text": [
      "<PredictionSurv> for 56 observations:\n",
      "    row_id time status      crank         lp                    distr\n",
      "         8 2466   TRUE -0.8585500 -0.8585500 <VectorDistribution[56]>\n",
      "        16 3672  FALSE -0.8226474 -0.8226474 <VectorDistribution[56]>\n",
      "        23 4079   TRUE -0.4999861 -0.4999861 <VectorDistribution[56]>\n",
      "---                                                                  \n",
      "       274 1216  FALSE -0.2620092 -0.2620092 <VectorDistribution[56]>\n",
      "       278  939  FALSE -0.2818681 -0.2818681 <VectorDistribution[56]>\n",
      "       279  839  FALSE -0.6940128 -0.6940128 <VectorDistribution[56]>\n"
     ]
    }
   ],
   "source": [
    "lrn_mb_d1 = lrn(\"surv.mboost\", family = \"coxph\", baselearner = \"bols\", mstop = 112, nu = 0.1625)\n",
    "# train/test split\n",
    "train_set_d1 = sample(tsks_train_d1$nrow, 0.8 * tsks_train_d1$nrow)\n",
    "test_set_d1 = setdiff(seq_len(tsks_train_d1$nrow), train_set_d1)\n",
    "# train the learner\n",
    "lrn_mb_d1$train(tsks_train_d1, row_ids = train_set_d1)\n",
    "# predict\n",
    "pred_mb_d1 = lrn_mb_d1$predict(tsks_train_d1, row_ids = test_set_d1)\n",
    "print(pred_mb_d1)"
   ]
  },
  {
   "cell_type": "markdown",
   "id": "fancy-ground",
   "metadata": {},
   "source": [
    "- d2"
   ]
  },
  {
   "cell_type": "code",
   "execution_count": 120,
   "id": "adequate-dialogue",
   "metadata": {},
   "outputs": [
    {
     "name": "stderr",
     "output_type": "stream",
     "text": [
      "Warning message in 1/R * n.event:\n",
      "“longer object length is not a multiple of shorter object length”\n"
     ]
    },
    {
     "name": "stdout",
     "output_type": "stream",
     "text": [
      "<PredictionSurv> for 111 observations:\n",
      "    row_id     time status       crank          lp                     distr\n",
      "         1 2.798084  FALSE -0.08238065 -0.08238065 <VectorDistribution[111]>\n",
      "         6 2.699521  FALSE -0.23333948 -0.23333948 <VectorDistribution[111]>\n",
      "        15 2.110883  FALSE  0.16698373  0.16698373 <VectorDistribution[111]>\n",
      "---                                                                         \n",
      "       530 3.247091  FALSE  0.11444582  0.11444582 <VectorDistribution[111]>\n",
      "       539 3.701574  FALSE  0.16698373  0.16698373 <VectorDistribution[111]>\n",
      "       550 3.175907  FALSE  0.16698373  0.16698373 <VectorDistribution[111]>\n"
     ]
    }
   ],
   "source": [
    "lrn_mb_d2 = lrn(\"surv.mboost\", family = \"coxph\", baselearner = \"btree\", mstop = 112, nu = 0.05)\n",
    "# train/test split\n",
    "train_set_d2 = sample(tsks_flt_d2$nrow, 0.8 * tsks_flt_d2$nrow)\n",
    "test_set_d2 = setdiff(seq_len(tsks_flt_d2$nrow), train_set_d2)\n",
    "# train the learner\n",
    "lrn_mb_d2$train(tsks_flt_d2, row_ids = train_set_d2)\n",
    "# predict\n",
    "pred_mb_d2 = lrn_mb_d2$predict(tsks_flt_d2, row_ids = test_set_d2)\n",
    "print(pred_mb_d2)"
   ]
  },
  {
   "cell_type": "markdown",
   "id": "monetary-frequency",
   "metadata": {},
   "source": [
    "- d3"
   ]
  },
  {
   "cell_type": "code",
   "execution_count": 121,
   "id": "discrete-ultimate",
   "metadata": {},
   "outputs": [
    {
     "name": "stdout",
     "output_type": "stream",
     "text": [
      "<PredictionSurv> for 124 observations:\n",
      "    row_id time status        crank           lp                     distr\n",
      "         1 1814   TRUE  0.065055804  0.065055804 <VectorDistribution[124]>\n",
      "         8  471   TRUE  1.946681354  1.946681354 <VectorDistribution[124]>\n",
      "        22 1693  FALSE -0.278152455 -0.278152455 <VectorDistribution[124]>\n",
      "---                                                                       \n",
      "       594 1789  FALSE  0.007294869  0.007294869 <VectorDistribution[124]>\n",
      "       604 1357  FALSE  0.806858339  0.806858339 <VectorDistribution[124]>\n",
      "       610  662   TRUE -0.536093785 -0.536093785 <VectorDistribution[124]>\n"
     ]
    }
   ],
   "source": [
    "lrn_mb_d3 = lrn(\"surv.mboost\", family = \"coxph\", baselearner = \"bols\", mstop = 150, nu = 0.5)\n",
    "# train/test split\n",
    "train_set_d3 = sample(tsks_train_d3$nrow, 0.8 * tsks_train_d3$nrow)\n",
    "test_set_d3 = setdiff(seq_len(tsks_train_d3$nrow), train_set_d3)\n",
    "# train the learner\n",
    "lrn_mb_d3$train(tsks_train_d3, row_ids = train_set_d3)\n",
    "# predict\n",
    "pred_mb_d3 = lrn_mb_d3$predict(tsks_train_d3, row_ids = test_set_d3)\n",
    "print(pred_mb_d3)"
   ]
  },
  {
   "cell_type": "markdown",
   "id": "regulated-dutch",
   "metadata": {},
   "source": [
    "- d4"
   ]
  },
  {
   "cell_type": "code",
   "execution_count": 122,
   "id": "current-contractor",
   "metadata": {},
   "outputs": [
    {
     "name": "stdout",
     "output_type": "stream",
     "text": [
      "<PredictionSurv> for 140 observations:\n",
      "    row_id time status       crank          lp\n",
      "         2  308   TRUE -0.04177913 -0.04177913\n",
      "        10  433   TRUE -0.04177913 -0.04177913\n",
      "        24  209   TRUE -0.04177913 -0.04177913\n",
      "---                                           \n",
      "       688   44   TRUE  0.04519111  0.04519111\n",
      "       694 1617  FALSE -0.02510261 -0.02510261\n",
      "       698 3065  FALSE -0.04177913 -0.04177913\n"
     ]
    }
   ],
   "source": [
    "lrn_mb_d4 = lrn(\"surv.mboost\", family = \"cindex\", baselearner = \"bols\", mstop = 100, nu = 0.5)\n",
    "# train/test split\n",
    "train_set_d4 = sample(tsks_train_d4$nrow, 0.8 * tsks_train_d4$nrow)\n",
    "test_set_d4 = setdiff(seq_len(tsks_train_d4$nrow), train_set_d4)\n",
    "# train the learner\n",
    "lrn_mb_d4$train(tsks_train_d4, row_ids = train_set_d4)\n",
    "# predict\n",
    "pred_mb_d4 = lrn_mb_d4$predict(tsks_train_d4, row_ids = test_set_d4)\n",
    "print(pred_mb_d4)"
   ]
  },
  {
   "cell_type": "markdown",
   "id": "cloudy-whole",
   "metadata": {},
   "source": [
    "- d5"
   ]
  },
  {
   "cell_type": "code",
   "execution_count": 123,
   "id": "immune-newsletter",
   "metadata": {},
   "outputs": [
    {
     "name": "stdout",
     "output_type": "stream",
     "text": [
      "<PredictionSurv> for 357 observations:\n",
      "    row_id time status      crank         lp                     distr\n",
      "         7 2947  FALSE -0.3819232 -0.3819232 <VectorDistribution[357]>\n",
      "        14  424   TRUE  2.5917229  2.5917229 <VectorDistribution[357]>\n",
      "        15 1594  FALSE -0.3582298 -0.3582298 <VectorDistribution[357]>\n",
      "---                                                                   \n",
      "      1746 4464   TRUE -0.3267954 -0.3267954 <VectorDistribution[357]>\n",
      "      1769 5998  FALSE -0.6884083 -0.6884083 <VectorDistribution[357]>\n",
      "      1776 2354   TRUE -0.5831927 -0.5831927 <VectorDistribution[357]>\n"
     ]
    }
   ],
   "source": [
    "lrn_mb_d5 = lrn(\"surv.mboost\", family = \"coxph\", baselearner = \"btree\", mstop = 200, nu = 0.275)\n",
    "# train/test split\n",
    "train_set_d5 = sample(tsks_flt_d5$nrow, 0.8 * tsks_flt_d5$nrow)\n",
    "test_set_d5 = setdiff(seq_len(tsks_flt_d5$nrow), train_set_d5)\n",
    "# train the learner\n",
    "lrn_mb_d5$train(tsks_flt_d5, row_ids = train_set_d5)\n",
    "# predict\n",
    "pred_mb_d5 = lrn_mb_d5$predict(tsks_flt_d5, row_ids = test_set_d5)\n",
    "print(pred_mb_d5)"
   ]
  },
  {
   "cell_type": "markdown",
   "id": "minimal-serial",
   "metadata": {},
   "source": [
    "- d7"
   ]
  },
  {
   "cell_type": "code",
   "execution_count": 126,
   "id": "blocked-needle",
   "metadata": {},
   "outputs": [
    {
     "name": "stdout",
     "output_type": "stream",
     "text": [
      "<PredictionSurv> for 358 observations:\n",
      "    row_id time status      crank         lp                     distr\n",
      "         2 30.1  FALSE -1.1877550 -1.1877550 <VectorDistribution[358]>\n",
      "         4 30.1  FALSE -1.5651596 -1.5651596 <VectorDistribution[358]>\n",
      "         5 30.1  FALSE  1.2931001  1.2931001 <VectorDistribution[358]>\n",
      "---                                                                   \n",
      "      1779 16.9   TRUE  0.4619084  0.4619084 <VectorDistribution[358]>\n",
      "      1784 30.1  FALSE -0.6516656 -0.6516656 <VectorDistribution[358]>\n",
      "      1786 30.1  FALSE -1.5771064 -1.5771064 <VectorDistribution[358]>\n"
     ]
    }
   ],
   "source": [
    "lrn_mb_d7 = lrn(\"surv.mboost\", family = \"coxph\", baselearner = \"bols\", mstop = 50, nu = 0.45)\n",
    "# train/test split\n",
    "train_set_d7 = sample(tsks_train_d7$nrow, 0.8 * tsks_train_d7$nrow)\n",
    "test_set_d7 = setdiff(seq_len(tsks_train_d7$nrow), train_set_d7)\n",
    "# train the learner\n",
    "lrn_mb_d7$train(tsks_train_d7, row_ids = train_set_d7)\n",
    "# predict\n",
    "pred_mb_d7 = lrn_mb_d7$predict(tsks_train_d7, row_ids = test_set_d7)\n",
    "print(pred_mb_d7)"
   ]
  },
  {
   "cell_type": "markdown",
   "id": "grand-customs",
   "metadata": {},
   "source": [
    "- d8"
   ]
  },
  {
   "cell_type": "code",
   "execution_count": 127,
   "id": "thrown-bowling",
   "metadata": {},
   "outputs": [
    {
     "name": "stdout",
     "output_type": "stream",
     "text": [
      "<PredictionSurv> for 6 observations:\n",
      " row_id time status       crank          lp\n",
      "      2   37   TRUE -0.03972126 -0.03972126\n",
      "      6   57  FALSE -0.09805477 -0.09805477\n",
      "     11   15   TRUE  0.21438889  0.21438889\n",
      "     13   20   TRUE -0.21472179 -0.21472179\n",
      "     19   77   TRUE -0.27305530 -0.27305530\n",
      "     27   18   TRUE -0.01894515 -0.01894515\n"
     ]
    }
   ],
   "source": [
    "lrn_mb_d8 = lrn(\"surv.mboost\", family = \"cindex\", baselearner = \"bols\", mstop = 133, nu = 0.2)\n",
    "# train/test split\n",
    "train_set_d8 = sample(tsks_train_d8$nrow, 0.8 * tsks_train_d8$nrow)\n",
    "test_set_d8 = setdiff(seq_len(tsks_train_d8$nrow), train_set_d8)\n",
    "# train the learner\n",
    "lrn_mb_d8$train(tsks_train_d8, row_ids = train_set_d8)\n",
    "# predict\n",
    "pred_mb_d8 = lrn_mb_d8$predict(tsks_train_d8, row_ids = test_set_d8)\n",
    "print(pred_mb_d8)"
   ]
  },
  {
   "cell_type": "markdown",
   "id": "chronic-yorkshire",
   "metadata": {},
   "source": [
    "- d9"
   ]
  },
  {
   "cell_type": "code",
   "execution_count": 128,
   "id": "reasonable-prisoner",
   "metadata": {},
   "outputs": [
    {
     "name": "stdout",
     "output_type": "stream",
     "text": [
      "<PredictionSurv> for 167 observations:\n",
      "    row_id time status       crank          lp                     distr\n",
      "         3    4  FALSE  0.03672821  0.03672821 <VectorDistribution[167]>\n",
      "         7    8  FALSE  0.20521451  0.20521451 <VectorDistribution[167]>\n",
      "        14    5   TRUE  0.01110557  0.01110557 <VectorDistribution[167]>\n",
      "---                                                                     \n",
      "       824    3   TRUE  0.12288693  0.12288693 <VectorDistribution[167]>\n",
      "       828    3   TRUE -0.11999220 -0.11999220 <VectorDistribution[167]>\n",
      "       833   24   TRUE -0.03645875 -0.03645875 <VectorDistribution[167]>\n"
     ]
    }
   ],
   "source": [
    "lrn_mb_d9 = lrn(\"surv.mboost\", family = \"coxph\", baselearner = \"bols\", mstop = 50, nu = 0.1)\n",
    "# train/test split\n",
    "train_set_d9 = sample(tsks_train_d9$nrow, 0.8 * tsks_train_d9$nrow)\n",
    "test_set_d9 = setdiff(seq_len(tsks_train_d9$nrow), train_set_d9)\n",
    "# train the learner\n",
    "lrn_mb_d9$train(tsks_train_d9, row_ids = train_set_d9)\n",
    "# predict\n",
    "pred_mb_d9 = lrn_mb_d9$predict(tsks_train_d9, row_ids = test_set_d9)\n",
    "print(pred_mb_d9)"
   ]
  },
  {
   "cell_type": "code",
   "execution_count": 141,
   "id": "current-notebook",
   "metadata": {},
   "outputs": [],
   "source": [
    "pred_mb <- list(pred_mb_d1, pred_mb_d2, pred_mb_d3, pred_mb_d4,\n",
    "                pred_mb_d5, pred_mb_d7, pred_mb_d8, pred_mb_d9)"
   ]
  },
  {
   "cell_type": "markdown",
   "id": "minimal-spirituality",
   "metadata": {},
   "source": [
    "mboost learner list"
   ]
  },
  {
   "cell_type": "code",
   "execution_count": null,
   "id": "auburn-flash",
   "metadata": {},
   "outputs": [],
   "source": [
    "lrn_mb = list(lrn_mb_d1, lrn_mb_d2, lrn_mb_d3, lrn_mb_d4,\n",
    "              lrn_mb_d5, lrn_mb_d7, lrn_mb_d8, lrn_mb_d9)"
   ]
  },
  {
   "cell_type": "markdown",
   "id": "specified-casino",
   "metadata": {},
   "source": [
    "# CoxBoost\n",
    "`pred_cb`"
   ]
  },
  {
   "cell_type": "markdown",
   "id": "compatible-difficulty",
   "metadata": {},
   "source": [
    "- d1"
   ]
  },
  {
   "cell_type": "code",
   "execution_count": 129,
   "id": "unusual-column",
   "metadata": {},
   "outputs": [
    {
     "name": "stdout",
     "output_type": "stream",
     "text": [
      "<PredictionSurv> for 56 observations:\n",
      "    row_id time status      crank         lp                    distr\n",
      "         3 1012   TRUE  2.3192776  2.3192776 <VectorDistribution[56]>\n",
      "        14 1217   TRUE  2.7900583  2.7900583 <VectorDistribution[56]>\n",
      "        15 3584   TRUE  0.1340198  0.1340198 <VectorDistribution[56]>\n",
      "---                                                                  \n",
      "       270 1295  FALSE -1.0596007 -1.0596007 <VectorDistribution[56]>\n",
      "       272 1250  FALSE  0.3138644  0.3138644 <VectorDistribution[56]>\n",
      "       280  788  FALSE -0.8225728 -0.8225728 <VectorDistribution[56]>\n"
     ]
    }
   ],
   "source": [
    "lrn_cb_d1 = lrn(\"surv.coxboost\", criterion = \"hpscore\", stepno = 50, penalty = 500, stepsize.factor = 5.05)\n",
    "# train/test split\n",
    "train_set_d1 = sample(tsks_oh_d1$nrow, 0.8 * tsks_oh_d1$nrow)\n",
    "test_set_d1 = setdiff(seq_len(tsks_oh_d1$nrow), train_set_d1)\n",
    "# train the learner\n",
    "lrn_cb_d1$train(tsks_oh_d1, row_ids = train_set_d1)\n",
    "# predict\n",
    "pred_cb_d1 = lrn_cb_d1$predict(tsks_oh_d1, row_ids = test_set_d1)\n",
    "print(pred_cb_d1)"
   ]
  },
  {
   "cell_type": "markdown",
   "id": "declared-peoples",
   "metadata": {},
   "source": [
    "- d2"
   ]
  },
  {
   "cell_type": "code",
   "execution_count": 130,
   "id": "inner-lincoln",
   "metadata": {},
   "outputs": [
    {
     "name": "stdout",
     "output_type": "stream",
     "text": [
      "<PredictionSurv> for 111 observations:\n",
      "    row_id      time status       crank          lp                     distr\n",
      "         4 3.8439425  FALSE  2.36570094  2.36570094 <VectorDistribution[111]>\n",
      "         7 4.7200548  FALSE  0.17300417  0.17300417 <VectorDistribution[111]>\n",
      "         8 0.8843258   TRUE  0.91999755  0.91999755 <VectorDistribution[111]>\n",
      "---                                                                          \n",
      "       540 3.6687201  FALSE -1.24414436 -1.24414436 <VectorDistribution[111]>\n",
      "       544 2.9322382  FALSE -0.72379889 -0.72379889 <VectorDistribution[111]>\n",
      "       550 3.1759069  FALSE  0.05451137  0.05451137 <VectorDistribution[111]>\n"
     ]
    }
   ],
   "source": [
    "lrn_cb_d2 = lrn(\"surv.coxboost\", criterion = \"hpscore\", stepno = 100, penalty = 500, stepsize.factor = 3.4)\n",
    "# train/test split\n",
    "train_set_d2 = sample(tsks_oh_d2$nrow, 0.8 * tsks_oh_d2$nrow)\n",
    "test_set_d2 = setdiff(seq_len(tsks_oh_d2$nrow), train_set_d2)\n",
    "# train the learner\n",
    "lrn_cb_d2$train(tsks_oh_d2, row_ids = train_set_d2)\n",
    "# predict\n",
    "pred_cb_d2 = lrn_cb_d2$predict(tsks_oh_d2, row_ids = test_set_d2)\n",
    "print(pred_cb_d2)"
   ]
  },
  {
   "cell_type": "markdown",
   "id": "miniature-fighter",
   "metadata": {},
   "source": [
    "- d3"
   ]
  },
  {
   "cell_type": "code",
   "execution_count": 131,
   "id": "charming-coordinate",
   "metadata": {},
   "outputs": [
    {
     "name": "stdout",
     "output_type": "stream",
     "text": [
      "<PredictionSurv> for 124 observations:\n",
      "    row_id time status       crank          lp                     distr\n",
      "         3 1807   TRUE -0.12914543 -0.12914543 <VectorDistribution[124]>\n",
      "         4  772   TRUE -0.02214354 -0.02214354 <VectorDistribution[124]>\n",
      "         7 2161  FALSE -0.36711620 -0.36711620 <VectorDistribution[124]>\n",
      "---                                                                     \n",
      "       606  748   TRUE -0.24426727 -0.24426727 <VectorDistribution[124]>\n",
      "       607 1090   TRUE -0.09736291 -0.09736291 <VectorDistribution[124]>\n",
      "       608 1219  FALSE -0.10891400 -0.10891400 <VectorDistribution[124]>\n"
     ]
    }
   ],
   "source": [
    "lrn_cb_d3 = lrn(\"surv.coxboost\", criterion = \"hpscore\", stepno = 50, penalty = 500, stepsize.factor = 5.05)\n",
    "# train/test split\n",
    "train_set_d3 = sample(tsks_oh_d3$nrow, 0.8 * tsks_oh_d3$nrow)\n",
    "test_set_d3 = setdiff(seq_len(tsks_oh_d3$nrow), train_set_d3)\n",
    "# train the learner\n",
    "lrn_cb_d3$train(tsks_oh_d3, row_ids = train_set_d3)\n",
    "# predict\n",
    "pred_cb_d3 = lrn_cb_d3$predict(tsks_oh_d3, row_ids = test_set_d3)\n",
    "print(pred_cb_d3)"
   ]
  },
  {
   "cell_type": "markdown",
   "id": "assumed-budget",
   "metadata": {},
   "source": [
    "- d4"
   ]
  },
  {
   "cell_type": "code",
   "execution_count": 132,
   "id": "worse-atlanta",
   "metadata": {},
   "outputs": [
    {
     "name": "stdout",
     "output_type": "stream",
     "text": [
      "<PredictionSurv> for 140 observations:\n",
      "    row_id time status        crank           lp                     distr\n",
      "         2  308   TRUE -0.006781749 -0.006781749 <VectorDistribution[140]>\n",
      "         3   33   TRUE  0.056915254  0.056915254 <VectorDistribution[140]>\n",
      "        13  214   TRUE  0.037211731  0.037211731 <VectorDistribution[140]>\n",
      "---                                                                       \n",
      "       658  705   TRUE  0.106174063  0.106174063 <VectorDistribution[140]>\n",
      "       679 2049  FALSE  0.050339164  0.050339164 <VectorDistribution[140]>\n",
      "       682  307   TRUE  0.201998380  0.201998380 <VectorDistribution[140]>\n"
     ]
    }
   ],
   "source": [
    "lrn_cb_d4 = lrn(\"surv.coxboost\", criterion = \"hpscore\", stepno = 112, penalty = 400, stepsize.factor = 0.1)\n",
    "# train/test split\n",
    "train_set_d4 = sample(tsks_oh_d4$nrow, 0.8 * tsks_oh_d4$nrow)\n",
    "test_set_d4 = setdiff(seq_len(tsks_oh_d4$nrow), train_set_d4)\n",
    "# train the learner\n",
    "lrn_cb_d4$train(tsks_oh_d4, row_ids = train_set_d4)\n",
    "# predict\n",
    "pred_cb_d4 = lrn_cb_d4$predict(tsks_oh_d4, row_ids = test_set_d4)\n",
    "print(pred_cb_d4)"
   ]
  },
  {
   "cell_type": "markdown",
   "id": "national-granny",
   "metadata": {},
   "source": [
    "- d5"
   ]
  },
  {
   "cell_type": "code",
   "execution_count": 133,
   "id": "sufficient-milan",
   "metadata": {},
   "outputs": [
    {
     "name": "stdout",
     "output_type": "stream",
     "text": [
      "<PredictionSurv> for 357 observations:\n",
      "    row_id time status       crank          lp                     distr\n",
      "         2 1484  FALSE -0.68109321 -0.68109321 <VectorDistribution[357]>\n",
      "         6  234   TRUE  0.20632516  0.20632516 <VectorDistribution[357]>\n",
      "        12 2258  FALSE -0.03560130 -0.03560130 <VectorDistribution[357]>\n",
      "---                                                                     \n",
      "      1764 5611  FALSE  0.10665649  0.10665649 <VectorDistribution[357]>\n",
      "      1770 3270   TRUE -0.05133617 -0.05133617 <VectorDistribution[357]>\n",
      "      1772 2909   TRUE  1.04010282  1.04010282 <VectorDistribution[357]>\n"
     ]
    }
   ],
   "source": [
    "lrn_cb_d5 = lrn(\"surv.coxboost\", criterion = \"hpscore\", stepno = 150, penalty = 200, stepsize.factor = 0.1)\n",
    "# train/test split\n",
    "train_set_d5 = sample(tsks_oh_d5$nrow, 0.8 * tsks_oh_d5$nrow)\n",
    "test_set_d5 = setdiff(seq_len(tsks_oh_d5$nrow), train_set_d5)\n",
    "# train the learner\n",
    "lrn_cb_d5$train(tsks_oh_d5, row_ids = train_set_d5)\n",
    "# predict\n",
    "pred_cb_d5 = lrn_cb_d5$predict(tsks_oh_d5, row_ids = test_set_d5)\n",
    "print(pred_cb_d5)"
   ]
  },
  {
   "cell_type": "markdown",
   "id": "false-determination",
   "metadata": {},
   "source": [
    "- d7"
   ]
  },
  {
   "cell_type": "code",
   "execution_count": 134,
   "id": "overhead-pursuit",
   "metadata": {},
   "outputs": [
    {
     "name": "stdout",
     "output_type": "stream",
     "text": [
      "<PredictionSurv> for 358 observations:\n",
      "    row_id time status      crank         lp                     distr\n",
      "         1 30.1  FALSE -1.5630929 -1.5630929 <VectorDistribution[358]>\n",
      "         3  9.8   TRUE  1.2721705  1.2721705 <VectorDistribution[358]>\n",
      "        18 30.1  FALSE -1.2430670 -1.2430670 <VectorDistribution[358]>\n",
      "---                                                                   \n",
      "      1767 30.1  FALSE -1.0559545 -1.0559545 <VectorDistribution[358]>\n",
      "      1774 30.1  FALSE  0.8638407  0.8638407 <VectorDistribution[358]>\n",
      "      1775 30.1  FALSE -1.9404679 -1.9404679 <VectorDistribution[358]>\n"
     ]
    }
   ],
   "source": [
    "lrn_cb_d7 = lrn(\"surv.coxboost\", criterion = \"hpscore\", stepno = 94, penalty = 500, stepsize.factor = 3.4)\n",
    "# train/test split\n",
    "train_set_d7 = sample(tsks_oh_d7$nrow, 0.8 * tsks_oh_d7$nrow)\n",
    "test_set_d7 = setdiff(seq_len(tsks_oh_d7$nrow), train_set_d7)\n",
    "# train the learner\n",
    "lrn_cb_d7$train(tsks_oh_d7, row_ids = train_set_d7)\n",
    "# predict\n",
    "pred_cb_d7 = lrn_cb_d7$predict(tsks_oh_d7, row_ids = test_set_d7)\n",
    "print(pred_cb_d7)"
   ]
  },
  {
   "cell_type": "markdown",
   "id": "martial-passenger",
   "metadata": {},
   "source": [
    "- d8"
   ]
  },
  {
   "cell_type": "code",
   "execution_count": 135,
   "id": "maritime-howard",
   "metadata": {},
   "outputs": [
    {
     "name": "stdout",
     "output_type": "stream",
     "text": [
      "<PredictionSurv> for 6 observations:\n",
      " row_id time status      crank         lp                   distr\n",
      "      8   93   TRUE -0.5305048 -0.5305048 <VectorDistribution[6]>\n",
      "      9   11   TRUE  0.7925067  0.7925067 <VectorDistribution[6]>\n",
      "     14   26   TRUE  0.6578545  0.6578545 <VectorDistribution[6]>\n",
      "     15   18   TRUE -0.7998092 -0.7998092 <VectorDistribution[6]>\n",
      "     16   19   TRUE  0.5905283  0.5905283 <VectorDistribution[6]>\n",
      "     19   77   TRUE -0.8671354 -0.8671354 <VectorDistribution[6]>\n"
     ]
    }
   ],
   "source": [
    "lrn_cb_d8 = lrn(\"surv.coxboost\", criterion = \"hpscore\", stepno = 217, penalty = 233.33333, stepsize.factor = 6.7)\n",
    "# train/test split\n",
    "train_set_d8 = sample(tsks_oh_d8$nrow, 0.8 * tsks_oh_d8$nrow)\n",
    "test_set_d8 = setdiff(seq_len(tsks_oh_d8$nrow), train_set_d8)\n",
    "# train the learner\n",
    "lrn_cb_d8$train(tsks_oh_d8, row_ids = train_set_d8)\n",
    "# predict\n",
    "pred_cb_d8 = lrn_cb_d8$predict(tsks_oh_d8, row_ids = test_set_d8)\n",
    "print(pred_cb_d8)"
   ]
  },
  {
   "cell_type": "markdown",
   "id": "surgical-express",
   "metadata": {},
   "source": [
    "- d9"
   ]
  },
  {
   "cell_type": "code",
   "execution_count": 136,
   "id": "distinguished-ready",
   "metadata": {},
   "outputs": [
    {
     "name": "stdout",
     "output_type": "stream",
     "text": [
      "<PredictionSurv> for 167 observations:\n",
      "    row_id time status        crank           lp                     distr\n",
      "         2    1   TRUE  0.265859665  0.265859665 <VectorDistribution[167]>\n",
      "         3    4  FALSE  0.009722425  0.009722425 <VectorDistribution[167]>\n",
      "         4    3   TRUE  0.807048343  0.807048343 <VectorDistribution[167]>\n",
      "---                                                                       \n",
      "       816    6   TRUE -0.241143450 -0.241143450 <VectorDistribution[167]>\n",
      "       824    3   TRUE  0.215592214  0.215592214 <VectorDistribution[167]>\n",
      "       826    4   TRUE  0.112885716  0.112885716 <VectorDistribution[167]>\n"
     ]
    }
   ],
   "source": [
    "lrn_cb_d9 = lrn(\"surv.coxboost\", criterion = \"hpscore\", stepno = 50, penalty = 366.66667, stepsize.factor = 4.5)\n",
    "# train/test split\n",
    "train_set_d9 = sample(tsks_oh_d9$nrow, 0.8 * tsks_oh_d9$nrow)\n",
    "test_set_d9 = setdiff(seq_len(tsks_oh_d9$nrow), train_set_d9)\n",
    "# train the learner\n",
    "lrn_cb_d9$train(tsks_oh_d9, row_ids = train_set_d9)\n",
    "# predict\n",
    "pred_cb_d9 = lrn_cb_d9$predict(tsks_oh_d9, row_ids = test_set_d9)\n",
    "print(pred_cb_d9)"
   ]
  },
  {
   "cell_type": "code",
   "execution_count": 144,
   "id": "important-intensity",
   "metadata": {},
   "outputs": [],
   "source": [
    "pred_cb <- list(pred_cb_d1, pred_cb_d2, pred_cb_d3, pred_cb_d4,\n",
    "                pred_cb_d5, pred_cb_d7, pred_cb_d8, pred_cb_d9)"
   ]
  },
  {
   "cell_type": "markdown",
   "id": "applicable-edgar",
   "metadata": {},
   "source": [
    "CoxBoost learner list"
   ]
  },
  {
   "cell_type": "code",
   "execution_count": 96,
   "id": "rolled-imaging",
   "metadata": {},
   "outputs": [],
   "source": [
    "# lrn_cb = list(lrn_cb_d1, lrn_cb_d2, lrn_cb_d3, lrn_cb_d4,\n",
    "#               lrn_cb_d5, lrn_cb_d7, lrn_cb_d8, lrn_cb_d9)"
   ]
  },
  {
   "cell_type": "code",
   "execution_count": 146,
   "id": "social-throw",
   "metadata": {},
   "outputs": [],
   "source": [
    "# merge the preds together\n",
    "pred_list <- list(pred_aft_d1, pred_aft_d2, pred_aft_d3, pred_aft_d4,\n",
    "               pred_aft_d5, pred_aft_d7, pred_aft_d8, pred_aft_d9,\n",
    "               pred_mb_d1, pred_mb_d2, pred_mb_d3, pred_mb_d4,\n",
    "               pred_mb_d5, pred_mb_d7, pred_mb_d8, pred_mb_d9,\n",
    "               pred_cb_d1, pred_cb_d2, pred_cb_d3, pred_cb_d4,\n",
    "               pred_cb_d5, pred_cb_d7, pred_cb_d8, pred_cb_d9)"
   ]
  },
  {
   "cell_type": "code",
   "execution_count": 148,
   "id": "professional-publisher",
   "metadata": {},
   "outputs": [],
   "source": [
    "# save and submit\n",
    "saveRDS(pred_list, \"YX_2021_Feb_24th.Rds\")"
   ]
  },
  {
   "cell_type": "markdown",
   "id": "formal-portable",
   "metadata": {},
   "source": [
    "# test"
   ]
  },
  {
   "cell_type": "code",
   "execution_count": 27,
   "id": "quantitative-dealing",
   "metadata": {},
   "outputs": [
    {
     "data": {
      "text/html": [
       "<table class=\"dataframe\">\n",
       "<caption>A data.table: 3 × 3</caption>\n",
       "<thead>\n",
       "\t<tr><th scope=col>litter</th><th scope=col>rx</th><th scope=col>sex</th></tr>\n",
       "\t<tr><th scope=col>&lt;int&gt;</th><th scope=col>&lt;int&gt;</th><th scope=col>&lt;fct&gt;</th></tr>\n",
       "</thead>\n",
       "<tbody>\n",
       "\t<tr><td>1</td><td>1</td><td>f</td></tr>\n",
       "\t<tr><td>1</td><td>0</td><td>f</td></tr>\n",
       "\t<tr><td>1</td><td>0</td><td>f</td></tr>\n",
       "</tbody>\n",
       "</table>\n"
      ],
      "text/latex": [
       "A data.table: 3 × 3\n",
       "\\begin{tabular}{lll}\n",
       " litter & rx & sex\\\\\n",
       " <int> & <int> & <fct>\\\\\n",
       "\\hline\n",
       "\t 1 & 1 & f\\\\\n",
       "\t 1 & 0 & f\\\\\n",
       "\t 1 & 0 & f\\\\\n",
       "\\end{tabular}\n"
      ],
      "text/markdown": [
       "\n",
       "A data.table: 3 × 3\n",
       "\n",
       "| litter &lt;int&gt; | rx &lt;int&gt; | sex &lt;fct&gt; |\n",
       "|---|---|---|\n",
       "| 1 | 1 | f |\n",
       "| 1 | 0 | f |\n",
       "| 1 | 0 | f |\n",
       "\n"
      ],
      "text/plain": [
       "  litter rx sex\n",
       "1 1      1  f  \n",
       "2 1      0  f  \n",
       "3 1      0  f  "
      ]
     },
     "metadata": {},
     "output_type": "display_data"
    }
   ],
   "source": [
    "# prepare the test set with the subset of the rats dataset and reset the variable types to match\n",
    "test_data_x = subset(rats, select = c(\"litter\", \"rx\", \"sex\"))\n",
    "test_data_x$sex <- as.factor(test_data_x$sex)\n",
    "test_data_x$rx <- as.integer(test_data_x$rx)\n",
    "as.data.table(test_data_x[1:3,])"
   ]
  },
  {
   "cell_type": "code",
   "execution_count": 24,
   "id": "arranged-amsterdam",
   "metadata": {},
   "outputs": [
    {
     "name": "stdout",
     "output_type": "stream",
     "text": [
      "<PredictionSurv> for 5 observations:\n",
      " row_id time status      crank         lp                   distr\n",
      "      1   NA     NA  0.7655211  0.7655211 <VectorDistribution[5]>\n",
      "      2   NA     NA  0.5933173  0.5933173 <VectorDistribution[5]>\n",
      "      3   NA     NA  0.5933173  0.5933173 <VectorDistribution[5]>\n",
      "      4   NA     NA -0.5733706 -0.5733706 <VectorDistribution[5]>\n",
      "      5   NA     NA -0.7455744 -0.7455744 <VectorDistribution[5]>\n"
     ]
    }
   ],
   "source": [
    "library(mlr3)\n",
    "task = mlr_tasks$get(\"rats\")\n",
    "learn = lrn(\"surv.mboost\", baselearner = \"bols\")\n",
    "\n",
    "train_set = sample(task$nrow, 0.8 * task$nrow)\n",
    "# test_set = setdiff(seq_len(task$nrow), train_set)\n",
    "\n",
    "learn$train(task, row_ids = train_set)\n",
    "prediction = learn$predict_newdata(task = task, newdata = test_data_x[1:5, 1:3])\n",
    "\n",
    "print(prediction)"
   ]
  },
  {
   "cell_type": "code",
   "execution_count": 23,
   "id": "rural-flooring",
   "metadata": {},
   "outputs": [
    {
     "data": {
      "text/html": [
       "<table class=\"dataframe\">\n",
       "<caption>A data.frame: 300 × 3</caption>\n",
       "<thead>\n",
       "\t<tr><th></th><th scope=col>litter</th><th scope=col>rx</th><th scope=col>sex</th></tr>\n",
       "\t<tr><th></th><th scope=col>&lt;int&gt;</th><th scope=col>&lt;int&gt;</th><th scope=col>&lt;fct&gt;</th></tr>\n",
       "</thead>\n",
       "<tbody>\n",
       "\t<tr><th scope=row>1</th><td> 1</td><td>1</td><td>f</td></tr>\n",
       "\t<tr><th scope=row>2</th><td> 1</td><td>0</td><td>f</td></tr>\n",
       "\t<tr><th scope=row>3</th><td> 1</td><td>0</td><td>f</td></tr>\n",
       "\t<tr><th scope=row>4</th><td> 2</td><td>1</td><td>m</td></tr>\n",
       "\t<tr><th scope=row>5</th><td> 2</td><td>0</td><td>m</td></tr>\n",
       "\t<tr><th scope=row>6</th><td> 2</td><td>0</td><td>m</td></tr>\n",
       "\t<tr><th scope=row>7</th><td> 3</td><td>1</td><td>f</td></tr>\n",
       "\t<tr><th scope=row>8</th><td> 3</td><td>0</td><td>f</td></tr>\n",
       "\t<tr><th scope=row>9</th><td> 3</td><td>0</td><td>f</td></tr>\n",
       "\t<tr><th scope=row>10</th><td> 4</td><td>1</td><td>m</td></tr>\n",
       "\t<tr><th scope=row>11</th><td> 4</td><td>0</td><td>m</td></tr>\n",
       "\t<tr><th scope=row>12</th><td> 4</td><td>0</td><td>m</td></tr>\n",
       "\t<tr><th scope=row>13</th><td> 5</td><td>1</td><td>f</td></tr>\n",
       "\t<tr><th scope=row>14</th><td> 5</td><td>0</td><td>f</td></tr>\n",
       "\t<tr><th scope=row>15</th><td> 5</td><td>0</td><td>f</td></tr>\n",
       "\t<tr><th scope=row>16</th><td> 6</td><td>1</td><td>m</td></tr>\n",
       "\t<tr><th scope=row>17</th><td> 6</td><td>0</td><td>m</td></tr>\n",
       "\t<tr><th scope=row>18</th><td> 6</td><td>0</td><td>m</td></tr>\n",
       "\t<tr><th scope=row>19</th><td> 7</td><td>1</td><td>f</td></tr>\n",
       "\t<tr><th scope=row>20</th><td> 7</td><td>0</td><td>f</td></tr>\n",
       "\t<tr><th scope=row>21</th><td> 7</td><td>0</td><td>f</td></tr>\n",
       "\t<tr><th scope=row>22</th><td> 8</td><td>1</td><td>m</td></tr>\n",
       "\t<tr><th scope=row>23</th><td> 8</td><td>0</td><td>m</td></tr>\n",
       "\t<tr><th scope=row>24</th><td> 8</td><td>0</td><td>m</td></tr>\n",
       "\t<tr><th scope=row>25</th><td> 9</td><td>1</td><td>f</td></tr>\n",
       "\t<tr><th scope=row>26</th><td> 9</td><td>0</td><td>f</td></tr>\n",
       "\t<tr><th scope=row>27</th><td> 9</td><td>0</td><td>f</td></tr>\n",
       "\t<tr><th scope=row>28</th><td>10</td><td>1</td><td>m</td></tr>\n",
       "\t<tr><th scope=row>29</th><td>10</td><td>0</td><td>m</td></tr>\n",
       "\t<tr><th scope=row>30</th><td>10</td><td>0</td><td>m</td></tr>\n",
       "\t<tr><th scope=row>⋮</th><td>⋮</td><td>⋮</td><td>⋮</td></tr>\n",
       "\t<tr><th scope=row>271</th><td> 91</td><td>1</td><td>f</td></tr>\n",
       "\t<tr><th scope=row>272</th><td> 91</td><td>0</td><td>f</td></tr>\n",
       "\t<tr><th scope=row>273</th><td> 91</td><td>0</td><td>f</td></tr>\n",
       "\t<tr><th scope=row>274</th><td> 92</td><td>1</td><td>m</td></tr>\n",
       "\t<tr><th scope=row>275</th><td> 92</td><td>0</td><td>m</td></tr>\n",
       "\t<tr><th scope=row>276</th><td> 92</td><td>0</td><td>m</td></tr>\n",
       "\t<tr><th scope=row>277</th><td> 93</td><td>1</td><td>f</td></tr>\n",
       "\t<tr><th scope=row>278</th><td> 93</td><td>0</td><td>f</td></tr>\n",
       "\t<tr><th scope=row>279</th><td> 93</td><td>0</td><td>f</td></tr>\n",
       "\t<tr><th scope=row>280</th><td> 94</td><td>1</td><td>m</td></tr>\n",
       "\t<tr><th scope=row>281</th><td> 94</td><td>0</td><td>m</td></tr>\n",
       "\t<tr><th scope=row>282</th><td> 94</td><td>0</td><td>m</td></tr>\n",
       "\t<tr><th scope=row>283</th><td> 95</td><td>1</td><td>f</td></tr>\n",
       "\t<tr><th scope=row>284</th><td> 95</td><td>0</td><td>f</td></tr>\n",
       "\t<tr><th scope=row>285</th><td> 95</td><td>0</td><td>f</td></tr>\n",
       "\t<tr><th scope=row>286</th><td> 96</td><td>1</td><td>m</td></tr>\n",
       "\t<tr><th scope=row>287</th><td> 96</td><td>0</td><td>m</td></tr>\n",
       "\t<tr><th scope=row>288</th><td> 96</td><td>0</td><td>m</td></tr>\n",
       "\t<tr><th scope=row>289</th><td> 97</td><td>1</td><td>f</td></tr>\n",
       "\t<tr><th scope=row>290</th><td> 97</td><td>0</td><td>f</td></tr>\n",
       "\t<tr><th scope=row>291</th><td> 97</td><td>0</td><td>f</td></tr>\n",
       "\t<tr><th scope=row>292</th><td> 98</td><td>1</td><td>m</td></tr>\n",
       "\t<tr><th scope=row>293</th><td> 98</td><td>0</td><td>m</td></tr>\n",
       "\t<tr><th scope=row>294</th><td> 98</td><td>0</td><td>m</td></tr>\n",
       "\t<tr><th scope=row>295</th><td> 99</td><td>1</td><td>f</td></tr>\n",
       "\t<tr><th scope=row>296</th><td> 99</td><td>0</td><td>f</td></tr>\n",
       "\t<tr><th scope=row>297</th><td> 99</td><td>0</td><td>f</td></tr>\n",
       "\t<tr><th scope=row>298</th><td>100</td><td>1</td><td>m</td></tr>\n",
       "\t<tr><th scope=row>299</th><td>100</td><td>0</td><td>m</td></tr>\n",
       "\t<tr><th scope=row>300</th><td>100</td><td>0</td><td>m</td></tr>\n",
       "</tbody>\n",
       "</table>\n"
      ],
      "text/latex": [
       "A data.frame: 300 × 3\n",
       "\\begin{tabular}{r|lll}\n",
       "  & litter & rx & sex\\\\\n",
       "  & <int> & <int> & <fct>\\\\\n",
       "\\hline\n",
       "\t1 &  1 & 1 & f\\\\\n",
       "\t2 &  1 & 0 & f\\\\\n",
       "\t3 &  1 & 0 & f\\\\\n",
       "\t4 &  2 & 1 & m\\\\\n",
       "\t5 &  2 & 0 & m\\\\\n",
       "\t6 &  2 & 0 & m\\\\\n",
       "\t7 &  3 & 1 & f\\\\\n",
       "\t8 &  3 & 0 & f\\\\\n",
       "\t9 &  3 & 0 & f\\\\\n",
       "\t10 &  4 & 1 & m\\\\\n",
       "\t11 &  4 & 0 & m\\\\\n",
       "\t12 &  4 & 0 & m\\\\\n",
       "\t13 &  5 & 1 & f\\\\\n",
       "\t14 &  5 & 0 & f\\\\\n",
       "\t15 &  5 & 0 & f\\\\\n",
       "\t16 &  6 & 1 & m\\\\\n",
       "\t17 &  6 & 0 & m\\\\\n",
       "\t18 &  6 & 0 & m\\\\\n",
       "\t19 &  7 & 1 & f\\\\\n",
       "\t20 &  7 & 0 & f\\\\\n",
       "\t21 &  7 & 0 & f\\\\\n",
       "\t22 &  8 & 1 & m\\\\\n",
       "\t23 &  8 & 0 & m\\\\\n",
       "\t24 &  8 & 0 & m\\\\\n",
       "\t25 &  9 & 1 & f\\\\\n",
       "\t26 &  9 & 0 & f\\\\\n",
       "\t27 &  9 & 0 & f\\\\\n",
       "\t28 & 10 & 1 & m\\\\\n",
       "\t29 & 10 & 0 & m\\\\\n",
       "\t30 & 10 & 0 & m\\\\\n",
       "\t⋮ & ⋮ & ⋮ & ⋮\\\\\n",
       "\t271 &  91 & 1 & f\\\\\n",
       "\t272 &  91 & 0 & f\\\\\n",
       "\t273 &  91 & 0 & f\\\\\n",
       "\t274 &  92 & 1 & m\\\\\n",
       "\t275 &  92 & 0 & m\\\\\n",
       "\t276 &  92 & 0 & m\\\\\n",
       "\t277 &  93 & 1 & f\\\\\n",
       "\t278 &  93 & 0 & f\\\\\n",
       "\t279 &  93 & 0 & f\\\\\n",
       "\t280 &  94 & 1 & m\\\\\n",
       "\t281 &  94 & 0 & m\\\\\n",
       "\t282 &  94 & 0 & m\\\\\n",
       "\t283 &  95 & 1 & f\\\\\n",
       "\t284 &  95 & 0 & f\\\\\n",
       "\t285 &  95 & 0 & f\\\\\n",
       "\t286 &  96 & 1 & m\\\\\n",
       "\t287 &  96 & 0 & m\\\\\n",
       "\t288 &  96 & 0 & m\\\\\n",
       "\t289 &  97 & 1 & f\\\\\n",
       "\t290 &  97 & 0 & f\\\\\n",
       "\t291 &  97 & 0 & f\\\\\n",
       "\t292 &  98 & 1 & m\\\\\n",
       "\t293 &  98 & 0 & m\\\\\n",
       "\t294 &  98 & 0 & m\\\\\n",
       "\t295 &  99 & 1 & f\\\\\n",
       "\t296 &  99 & 0 & f\\\\\n",
       "\t297 &  99 & 0 & f\\\\\n",
       "\t298 & 100 & 1 & m\\\\\n",
       "\t299 & 100 & 0 & m\\\\\n",
       "\t300 & 100 & 0 & m\\\\\n",
       "\\end{tabular}\n"
      ],
      "text/markdown": [
       "\n",
       "A data.frame: 300 × 3\n",
       "\n",
       "| <!--/--> | litter &lt;int&gt; | rx &lt;int&gt; | sex &lt;fct&gt; |\n",
       "|---|---|---|---|\n",
       "| 1 |  1 | 1 | f |\n",
       "| 2 |  1 | 0 | f |\n",
       "| 3 |  1 | 0 | f |\n",
       "| 4 |  2 | 1 | m |\n",
       "| 5 |  2 | 0 | m |\n",
       "| 6 |  2 | 0 | m |\n",
       "| 7 |  3 | 1 | f |\n",
       "| 8 |  3 | 0 | f |\n",
       "| 9 |  3 | 0 | f |\n",
       "| 10 |  4 | 1 | m |\n",
       "| 11 |  4 | 0 | m |\n",
       "| 12 |  4 | 0 | m |\n",
       "| 13 |  5 | 1 | f |\n",
       "| 14 |  5 | 0 | f |\n",
       "| 15 |  5 | 0 | f |\n",
       "| 16 |  6 | 1 | m |\n",
       "| 17 |  6 | 0 | m |\n",
       "| 18 |  6 | 0 | m |\n",
       "| 19 |  7 | 1 | f |\n",
       "| 20 |  7 | 0 | f |\n",
       "| 21 |  7 | 0 | f |\n",
       "| 22 |  8 | 1 | m |\n",
       "| 23 |  8 | 0 | m |\n",
       "| 24 |  8 | 0 | m |\n",
       "| 25 |  9 | 1 | f |\n",
       "| 26 |  9 | 0 | f |\n",
       "| 27 |  9 | 0 | f |\n",
       "| 28 | 10 | 1 | m |\n",
       "| 29 | 10 | 0 | m |\n",
       "| 30 | 10 | 0 | m |\n",
       "| ⋮ | ⋮ | ⋮ | ⋮ |\n",
       "| 271 |  91 | 1 | f |\n",
       "| 272 |  91 | 0 | f |\n",
       "| 273 |  91 | 0 | f |\n",
       "| 274 |  92 | 1 | m |\n",
       "| 275 |  92 | 0 | m |\n",
       "| 276 |  92 | 0 | m |\n",
       "| 277 |  93 | 1 | f |\n",
       "| 278 |  93 | 0 | f |\n",
       "| 279 |  93 | 0 | f |\n",
       "| 280 |  94 | 1 | m |\n",
       "| 281 |  94 | 0 | m |\n",
       "| 282 |  94 | 0 | m |\n",
       "| 283 |  95 | 1 | f |\n",
       "| 284 |  95 | 0 | f |\n",
       "| 285 |  95 | 0 | f |\n",
       "| 286 |  96 | 1 | m |\n",
       "| 287 |  96 | 0 | m |\n",
       "| 288 |  96 | 0 | m |\n",
       "| 289 |  97 | 1 | f |\n",
       "| 290 |  97 | 0 | f |\n",
       "| 291 |  97 | 0 | f |\n",
       "| 292 |  98 | 1 | m |\n",
       "| 293 |  98 | 0 | m |\n",
       "| 294 |  98 | 0 | m |\n",
       "| 295 |  99 | 1 | f |\n",
       "| 296 |  99 | 0 | f |\n",
       "| 297 |  99 | 0 | f |\n",
       "| 298 | 100 | 1 | m |\n",
       "| 299 | 100 | 0 | m |\n",
       "| 300 | 100 | 0 | m |\n",
       "\n"
      ],
      "text/plain": [
       "    litter rx sex\n",
       "1    1     1  f  \n",
       "2    1     0  f  \n",
       "3    1     0  f  \n",
       "4    2     1  m  \n",
       "5    2     0  m  \n",
       "6    2     0  m  \n",
       "7    3     1  f  \n",
       "8    3     0  f  \n",
       "9    3     0  f  \n",
       "10   4     1  m  \n",
       "11   4     0  m  \n",
       "12   4     0  m  \n",
       "13   5     1  f  \n",
       "14   5     0  f  \n",
       "15   5     0  f  \n",
       "16   6     1  m  \n",
       "17   6     0  m  \n",
       "18   6     0  m  \n",
       "19   7     1  f  \n",
       "20   7     0  f  \n",
       "21   7     0  f  \n",
       "22   8     1  m  \n",
       "23   8     0  m  \n",
       "24   8     0  m  \n",
       "25   9     1  f  \n",
       "26   9     0  f  \n",
       "27   9     0  f  \n",
       "28  10     1  m  \n",
       "29  10     0  m  \n",
       "30  10     0  m  \n",
       "⋮   ⋮      ⋮  ⋮  \n",
       "271  91    1  f  \n",
       "272  91    0  f  \n",
       "273  91    0  f  \n",
       "274  92    1  m  \n",
       "275  92    0  m  \n",
       "276  92    0  m  \n",
       "277  93    1  f  \n",
       "278  93    0  f  \n",
       "279  93    0  f  \n",
       "280  94    1  m  \n",
       "281  94    0  m  \n",
       "282  94    0  m  \n",
       "283  95    1  f  \n",
       "284  95    0  f  \n",
       "285  95    0  f  \n",
       "286  96    1  m  \n",
       "287  96    0  m  \n",
       "288  96    0  m  \n",
       "289  97    1  f  \n",
       "290  97    0  f  \n",
       "291  97    0  f  \n",
       "292  98    1  m  \n",
       "293  98    0  m  \n",
       "294  98    0  m  \n",
       "295  99    1  f  \n",
       "296  99    0  f  \n",
       "297  99    0  f  \n",
       "298 100    1  m  \n",
       "299 100    0  m  \n",
       "300 100    0  m  "
      ]
     },
     "metadata": {},
     "output_type": "display_data"
    }
   ],
   "source": []
  },
  {
   "cell_type": "code",
   "execution_count": 22,
   "id": "excellent-jackson",
   "metadata": {},
   "outputs": [
    {
     "data": {
      "text/plain": [
       "<TaskSurv:rats> (300 x 5)\n",
       "* Target: time, status\n",
       "* Properties: -\n",
       "* Features (3):\n",
       "  - int (2): litter, rx\n",
       "  - fct (1): sex"
      ]
     },
     "metadata": {},
     "output_type": "display_data"
    }
   ],
   "source": [
    "tsk(\"rats\")"
   ]
  },
  {
   "cell_type": "code",
   "execution_count": 14,
   "id": "quantitative-encyclopedia",
   "metadata": {},
   "outputs": [
    {
     "data": {
      "text/html": [
       "<table class=\"dataframe\">\n",
       "<caption>A data.frame: 300 × 5</caption>\n",
       "<thead>\n",
       "\t<tr><th scope=col>litter</th><th scope=col>rx</th><th scope=col>time</th><th scope=col>status</th><th scope=col>sex</th></tr>\n",
       "\t<tr><th scope=col>&lt;int&gt;</th><th scope=col>&lt;dbl&gt;</th><th scope=col>&lt;dbl&gt;</th><th scope=col>&lt;dbl&gt;</th><th scope=col>&lt;chr&gt;</th></tr>\n",
       "</thead>\n",
       "<tbody>\n",
       "\t<tr><td> 1</td><td>1</td><td>101</td><td>0</td><td>f</td></tr>\n",
       "\t<tr><td> 1</td><td>0</td><td> 49</td><td>1</td><td>f</td></tr>\n",
       "\t<tr><td> 1</td><td>0</td><td>104</td><td>0</td><td>f</td></tr>\n",
       "\t<tr><td> 2</td><td>1</td><td> 91</td><td>0</td><td>m</td></tr>\n",
       "\t<tr><td> 2</td><td>0</td><td>104</td><td>0</td><td>m</td></tr>\n",
       "\t<tr><td> 2</td><td>0</td><td>102</td><td>0</td><td>m</td></tr>\n",
       "\t<tr><td> 3</td><td>1</td><td>104</td><td>0</td><td>f</td></tr>\n",
       "\t<tr><td> 3</td><td>0</td><td>102</td><td>0</td><td>f</td></tr>\n",
       "\t<tr><td> 3</td><td>0</td><td>104</td><td>0</td><td>f</td></tr>\n",
       "\t<tr><td> 4</td><td>1</td><td> 91</td><td>0</td><td>m</td></tr>\n",
       "\t<tr><td> 4</td><td>0</td><td>104</td><td>0</td><td>m</td></tr>\n",
       "\t<tr><td> 4</td><td>0</td><td>102</td><td>0</td><td>m</td></tr>\n",
       "\t<tr><td> 5</td><td>1</td><td>104</td><td>0</td><td>f</td></tr>\n",
       "\t<tr><td> 5</td><td>0</td><td>104</td><td>0</td><td>f</td></tr>\n",
       "\t<tr><td> 5</td><td>0</td><td>104</td><td>0</td><td>f</td></tr>\n",
       "\t<tr><td> 6</td><td>1</td><td> 98</td><td>0</td><td>m</td></tr>\n",
       "\t<tr><td> 6</td><td>0</td><td> 62</td><td>0</td><td>m</td></tr>\n",
       "\t<tr><td> 6</td><td>0</td><td> 77</td><td>0</td><td>m</td></tr>\n",
       "\t<tr><td> 7</td><td>1</td><td> 77</td><td>0</td><td>f</td></tr>\n",
       "\t<tr><td> 7</td><td>0</td><td> 97</td><td>0</td><td>f</td></tr>\n",
       "\t<tr><td> 7</td><td>0</td><td> 79</td><td>0</td><td>f</td></tr>\n",
       "\t<tr><td> 8</td><td>1</td><td> 91</td><td>0</td><td>m</td></tr>\n",
       "\t<tr><td> 8</td><td>0</td><td> 98</td><td>0</td><td>m</td></tr>\n",
       "\t<tr><td> 8</td><td>0</td><td> 76</td><td>0</td><td>m</td></tr>\n",
       "\t<tr><td> 9</td><td>1</td><td> 89</td><td>0</td><td>f</td></tr>\n",
       "\t<tr><td> 9</td><td>0</td><td>104</td><td>0</td><td>f</td></tr>\n",
       "\t<tr><td> 9</td><td>0</td><td>104</td><td>0</td><td>f</td></tr>\n",
       "\t<tr><td>10</td><td>1</td><td>104</td><td>0</td><td>m</td></tr>\n",
       "\t<tr><td>10</td><td>0</td><td>104</td><td>0</td><td>m</td></tr>\n",
       "\t<tr><td>10</td><td>0</td><td> 98</td><td>0</td><td>m</td></tr>\n",
       "\t<tr><td>⋮</td><td>⋮</td><td>⋮</td><td>⋮</td><td>⋮</td></tr>\n",
       "\t<tr><td> 91</td><td>1</td><td> 49</td><td>0</td><td>f</td></tr>\n",
       "\t<tr><td> 91</td><td>0</td><td> 83</td><td>0</td><td>f</td></tr>\n",
       "\t<tr><td> 91</td><td>0</td><td> 77</td><td>0</td><td>f</td></tr>\n",
       "\t<tr><td> 92</td><td>1</td><td> 94</td><td>0</td><td>m</td></tr>\n",
       "\t<tr><td> 92</td><td>0</td><td>104</td><td>0</td><td>m</td></tr>\n",
       "\t<tr><td> 92</td><td>0</td><td>102</td><td>0</td><td>m</td></tr>\n",
       "\t<tr><td> 93</td><td>1</td><td> 89</td><td>1</td><td>f</td></tr>\n",
       "\t<tr><td> 93</td><td>0</td><td>104</td><td>0</td><td>f</td></tr>\n",
       "\t<tr><td> 93</td><td>0</td><td>104</td><td>0</td><td>f</td></tr>\n",
       "\t<tr><td> 94</td><td>1</td><td>104</td><td>0</td><td>m</td></tr>\n",
       "\t<tr><td> 94</td><td>0</td><td> 89</td><td>0</td><td>m</td></tr>\n",
       "\t<tr><td> 94</td><td>0</td><td> 77</td><td>0</td><td>m</td></tr>\n",
       "\t<tr><td> 95</td><td>1</td><td> 88</td><td>0</td><td>f</td></tr>\n",
       "\t<tr><td> 95</td><td>0</td><td> 79</td><td>0</td><td>f</td></tr>\n",
       "\t<tr><td> 95</td><td>0</td><td> 99</td><td>0</td><td>f</td></tr>\n",
       "\t<tr><td> 96</td><td>1</td><td>104</td><td>0</td><td>m</td></tr>\n",
       "\t<tr><td> 96</td><td>0</td><td> 69</td><td>0</td><td>m</td></tr>\n",
       "\t<tr><td> 96</td><td>0</td><td>102</td><td>0</td><td>m</td></tr>\n",
       "\t<tr><td> 97</td><td>1</td><td>103</td><td>1</td><td>f</td></tr>\n",
       "\t<tr><td> 97</td><td>0</td><td> 91</td><td>0</td><td>f</td></tr>\n",
       "\t<tr><td> 97</td><td>0</td><td>104</td><td>0</td><td>f</td></tr>\n",
       "\t<tr><td> 98</td><td>1</td><td>104</td><td>0</td><td>m</td></tr>\n",
       "\t<tr><td> 98</td><td>0</td><td> 75</td><td>1</td><td>m</td></tr>\n",
       "\t<tr><td> 98</td><td>0</td><td> 64</td><td>0</td><td>m</td></tr>\n",
       "\t<tr><td> 99</td><td>1</td><td>104</td><td>0</td><td>f</td></tr>\n",
       "\t<tr><td> 99</td><td>0</td><td>104</td><td>0</td><td>f</td></tr>\n",
       "\t<tr><td> 99</td><td>0</td><td> 79</td><td>1</td><td>f</td></tr>\n",
       "\t<tr><td>100</td><td>1</td><td> 92</td><td>0</td><td>m</td></tr>\n",
       "\t<tr><td>100</td><td>0</td><td>104</td><td>0</td><td>m</td></tr>\n",
       "\t<tr><td>100</td><td>0</td><td>102</td><td>0</td><td>m</td></tr>\n",
       "</tbody>\n",
       "</table>\n"
      ],
      "text/latex": [
       "A data.frame: 300 × 5\n",
       "\\begin{tabular}{lllll}\n",
       " litter & rx & time & status & sex\\\\\n",
       " <int> & <dbl> & <dbl> & <dbl> & <chr>\\\\\n",
       "\\hline\n",
       "\t  1 & 1 & 101 & 0 & f\\\\\n",
       "\t  1 & 0 &  49 & 1 & f\\\\\n",
       "\t  1 & 0 & 104 & 0 & f\\\\\n",
       "\t  2 & 1 &  91 & 0 & m\\\\\n",
       "\t  2 & 0 & 104 & 0 & m\\\\\n",
       "\t  2 & 0 & 102 & 0 & m\\\\\n",
       "\t  3 & 1 & 104 & 0 & f\\\\\n",
       "\t  3 & 0 & 102 & 0 & f\\\\\n",
       "\t  3 & 0 & 104 & 0 & f\\\\\n",
       "\t  4 & 1 &  91 & 0 & m\\\\\n",
       "\t  4 & 0 & 104 & 0 & m\\\\\n",
       "\t  4 & 0 & 102 & 0 & m\\\\\n",
       "\t  5 & 1 & 104 & 0 & f\\\\\n",
       "\t  5 & 0 & 104 & 0 & f\\\\\n",
       "\t  5 & 0 & 104 & 0 & f\\\\\n",
       "\t  6 & 1 &  98 & 0 & m\\\\\n",
       "\t  6 & 0 &  62 & 0 & m\\\\\n",
       "\t  6 & 0 &  77 & 0 & m\\\\\n",
       "\t  7 & 1 &  77 & 0 & f\\\\\n",
       "\t  7 & 0 &  97 & 0 & f\\\\\n",
       "\t  7 & 0 &  79 & 0 & f\\\\\n",
       "\t  8 & 1 &  91 & 0 & m\\\\\n",
       "\t  8 & 0 &  98 & 0 & m\\\\\n",
       "\t  8 & 0 &  76 & 0 & m\\\\\n",
       "\t  9 & 1 &  89 & 0 & f\\\\\n",
       "\t  9 & 0 & 104 & 0 & f\\\\\n",
       "\t  9 & 0 & 104 & 0 & f\\\\\n",
       "\t 10 & 1 & 104 & 0 & m\\\\\n",
       "\t 10 & 0 & 104 & 0 & m\\\\\n",
       "\t 10 & 0 &  98 & 0 & m\\\\\n",
       "\t ⋮ & ⋮ & ⋮ & ⋮ & ⋮\\\\\n",
       "\t  91 & 1 &  49 & 0 & f\\\\\n",
       "\t  91 & 0 &  83 & 0 & f\\\\\n",
       "\t  91 & 0 &  77 & 0 & f\\\\\n",
       "\t  92 & 1 &  94 & 0 & m\\\\\n",
       "\t  92 & 0 & 104 & 0 & m\\\\\n",
       "\t  92 & 0 & 102 & 0 & m\\\\\n",
       "\t  93 & 1 &  89 & 1 & f\\\\\n",
       "\t  93 & 0 & 104 & 0 & f\\\\\n",
       "\t  93 & 0 & 104 & 0 & f\\\\\n",
       "\t  94 & 1 & 104 & 0 & m\\\\\n",
       "\t  94 & 0 &  89 & 0 & m\\\\\n",
       "\t  94 & 0 &  77 & 0 & m\\\\\n",
       "\t  95 & 1 &  88 & 0 & f\\\\\n",
       "\t  95 & 0 &  79 & 0 & f\\\\\n",
       "\t  95 & 0 &  99 & 0 & f\\\\\n",
       "\t  96 & 1 & 104 & 0 & m\\\\\n",
       "\t  96 & 0 &  69 & 0 & m\\\\\n",
       "\t  96 & 0 & 102 & 0 & m\\\\\n",
       "\t  97 & 1 & 103 & 1 & f\\\\\n",
       "\t  97 & 0 &  91 & 0 & f\\\\\n",
       "\t  97 & 0 & 104 & 0 & f\\\\\n",
       "\t  98 & 1 & 104 & 0 & m\\\\\n",
       "\t  98 & 0 &  75 & 1 & m\\\\\n",
       "\t  98 & 0 &  64 & 0 & m\\\\\n",
       "\t  99 & 1 & 104 & 0 & f\\\\\n",
       "\t  99 & 0 & 104 & 0 & f\\\\\n",
       "\t  99 & 0 &  79 & 1 & f\\\\\n",
       "\t 100 & 1 &  92 & 0 & m\\\\\n",
       "\t 100 & 0 & 104 & 0 & m\\\\\n",
       "\t 100 & 0 & 102 & 0 & m\\\\\n",
       "\\end{tabular}\n"
      ],
      "text/markdown": [
       "\n",
       "A data.frame: 300 × 5\n",
       "\n",
       "| litter &lt;int&gt; | rx &lt;dbl&gt; | time &lt;dbl&gt; | status &lt;dbl&gt; | sex &lt;chr&gt; |\n",
       "|---|---|---|---|---|\n",
       "|  1 | 1 | 101 | 0 | f |\n",
       "|  1 | 0 |  49 | 1 | f |\n",
       "|  1 | 0 | 104 | 0 | f |\n",
       "|  2 | 1 |  91 | 0 | m |\n",
       "|  2 | 0 | 104 | 0 | m |\n",
       "|  2 | 0 | 102 | 0 | m |\n",
       "|  3 | 1 | 104 | 0 | f |\n",
       "|  3 | 0 | 102 | 0 | f |\n",
       "|  3 | 0 | 104 | 0 | f |\n",
       "|  4 | 1 |  91 | 0 | m |\n",
       "|  4 | 0 | 104 | 0 | m |\n",
       "|  4 | 0 | 102 | 0 | m |\n",
       "|  5 | 1 | 104 | 0 | f |\n",
       "|  5 | 0 | 104 | 0 | f |\n",
       "|  5 | 0 | 104 | 0 | f |\n",
       "|  6 | 1 |  98 | 0 | m |\n",
       "|  6 | 0 |  62 | 0 | m |\n",
       "|  6 | 0 |  77 | 0 | m |\n",
       "|  7 | 1 |  77 | 0 | f |\n",
       "|  7 | 0 |  97 | 0 | f |\n",
       "|  7 | 0 |  79 | 0 | f |\n",
       "|  8 | 1 |  91 | 0 | m |\n",
       "|  8 | 0 |  98 | 0 | m |\n",
       "|  8 | 0 |  76 | 0 | m |\n",
       "|  9 | 1 |  89 | 0 | f |\n",
       "|  9 | 0 | 104 | 0 | f |\n",
       "|  9 | 0 | 104 | 0 | f |\n",
       "| 10 | 1 | 104 | 0 | m |\n",
       "| 10 | 0 | 104 | 0 | m |\n",
       "| 10 | 0 |  98 | 0 | m |\n",
       "| ⋮ | ⋮ | ⋮ | ⋮ | ⋮ |\n",
       "|  91 | 1 |  49 | 0 | f |\n",
       "|  91 | 0 |  83 | 0 | f |\n",
       "|  91 | 0 |  77 | 0 | f |\n",
       "|  92 | 1 |  94 | 0 | m |\n",
       "|  92 | 0 | 104 | 0 | m |\n",
       "|  92 | 0 | 102 | 0 | m |\n",
       "|  93 | 1 |  89 | 1 | f |\n",
       "|  93 | 0 | 104 | 0 | f |\n",
       "|  93 | 0 | 104 | 0 | f |\n",
       "|  94 | 1 | 104 | 0 | m |\n",
       "|  94 | 0 |  89 | 0 | m |\n",
       "|  94 | 0 |  77 | 0 | m |\n",
       "|  95 | 1 |  88 | 0 | f |\n",
       "|  95 | 0 |  79 | 0 | f |\n",
       "|  95 | 0 |  99 | 0 | f |\n",
       "|  96 | 1 | 104 | 0 | m |\n",
       "|  96 | 0 |  69 | 0 | m |\n",
       "|  96 | 0 | 102 | 0 | m |\n",
       "|  97 | 1 | 103 | 1 | f |\n",
       "|  97 | 0 |  91 | 0 | f |\n",
       "|  97 | 0 | 104 | 0 | f |\n",
       "|  98 | 1 | 104 | 0 | m |\n",
       "|  98 | 0 |  75 | 1 | m |\n",
       "|  98 | 0 |  64 | 0 | m |\n",
       "|  99 | 1 | 104 | 0 | f |\n",
       "|  99 | 0 | 104 | 0 | f |\n",
       "|  99 | 0 |  79 | 1 | f |\n",
       "| 100 | 1 |  92 | 0 | m |\n",
       "| 100 | 0 | 104 | 0 | m |\n",
       "| 100 | 0 | 102 | 0 | m |\n",
       "\n"
      ],
      "text/plain": [
       "    litter rx time status sex\n",
       "1    1     1  101  0      f  \n",
       "2    1     0   49  1      f  \n",
       "3    1     0  104  0      f  \n",
       "4    2     1   91  0      m  \n",
       "5    2     0  104  0      m  \n",
       "6    2     0  102  0      m  \n",
       "7    3     1  104  0      f  \n",
       "8    3     0  102  0      f  \n",
       "9    3     0  104  0      f  \n",
       "10   4     1   91  0      m  \n",
       "11   4     0  104  0      m  \n",
       "12   4     0  102  0      m  \n",
       "13   5     1  104  0      f  \n",
       "14   5     0  104  0      f  \n",
       "15   5     0  104  0      f  \n",
       "16   6     1   98  0      m  \n",
       "17   6     0   62  0      m  \n",
       "18   6     0   77  0      m  \n",
       "19   7     1   77  0      f  \n",
       "20   7     0   97  0      f  \n",
       "21   7     0   79  0      f  \n",
       "22   8     1   91  0      m  \n",
       "23   8     0   98  0      m  \n",
       "24   8     0   76  0      m  \n",
       "25   9     1   89  0      f  \n",
       "26   9     0  104  0      f  \n",
       "27   9     0  104  0      f  \n",
       "28  10     1  104  0      m  \n",
       "29  10     0  104  0      m  \n",
       "30  10     0   98  0      m  \n",
       "⋮   ⋮      ⋮  ⋮    ⋮      ⋮  \n",
       "271  91    1   49  0      f  \n",
       "272  91    0   83  0      f  \n",
       "273  91    0   77  0      f  \n",
       "274  92    1   94  0      m  \n",
       "275  92    0  104  0      m  \n",
       "276  92    0  102  0      m  \n",
       "277  93    1   89  1      f  \n",
       "278  93    0  104  0      f  \n",
       "279  93    0  104  0      f  \n",
       "280  94    1  104  0      m  \n",
       "281  94    0   89  0      m  \n",
       "282  94    0   77  0      m  \n",
       "283  95    1   88  0      f  \n",
       "284  95    0   79  0      f  \n",
       "285  95    0   99  0      f  \n",
       "286  96    1  104  0      m  \n",
       "287  96    0   69  0      m  \n",
       "288  96    0  102  0      m  \n",
       "289  97    1  103  1      f  \n",
       "290  97    0   91  0      f  \n",
       "291  97    0  104  0      f  \n",
       "292  98    1  104  0      m  \n",
       "293  98    0   75  1      m  \n",
       "294  98    0   64  0      m  \n",
       "295  99    1  104  0      f  \n",
       "296  99    0  104  0      f  \n",
       "297  99    0   79  1      f  \n",
       "298 100    1   92  0      m  \n",
       "299 100    0  104  0      m  \n",
       "300 100    0  102  0      m  "
      ]
     },
     "metadata": {},
     "output_type": "display_data"
    }
   ],
   "source": [
    "rats"
   ]
  },
  {
   "cell_type": "code",
   "execution_count": 35,
   "id": "anonymous-posting",
   "metadata": {},
   "outputs": [
    {
     "name": "stdout",
     "output_type": "stream",
     "text": [
      "INFO  [07:03:48.303] [mlr3]  Benchmark with 3 resampling iterations \n",
      "INFO  [07:03:48.311] [mlr3]  Applying learner 'surv.mboost' on task 'df1' (iter 3/3) \n",
      "INFO  [07:03:49.377] [mlr3]  Applying learner 'surv.mboost' on task 'df1' (iter 1/3) \n",
      "INFO  [07:03:50.416] [mlr3]  Applying learner 'surv.mboost' on task 'df1' (iter 2/3) \n",
      "INFO  [07:03:51.487] [mlr3]  Finished benchmark \n"
     ]
    },
    {
     "data": {
      "text/html": [
       "<table class=\"dataframe\">\n",
       "<caption>A data.table: 1 × 7</caption>\n",
       "<thead>\n",
       "\t<tr><th scope=col>nr</th><th scope=col>resample_result</th><th scope=col>task_id</th><th scope=col>learner_id</th><th scope=col>resampling_id</th><th scope=col>iters</th><th scope=col>surv.graf</th></tr>\n",
       "\t<tr><th scope=col>&lt;int&gt;</th><th scope=col>&lt;list&gt;</th><th scope=col>&lt;chr&gt;</th><th scope=col>&lt;chr&gt;</th><th scope=col>&lt;chr&gt;</th><th scope=col>&lt;int&gt;</th><th scope=col>&lt;dbl&gt;</th></tr>\n",
       "</thead>\n",
       "<tbody>\n",
       "\t<tr><td>1</td><td>&lt;environment: 0x55b2cb4252d8&gt;</td><td>df1</td><td>surv.mboost</td><td>cv</td><td>3</td><td>0.1465453</td></tr>\n",
       "</tbody>\n",
       "</table>\n"
      ],
      "text/latex": [
       "A data.table: 1 × 7\n",
       "\\begin{tabular}{lllllll}\n",
       " nr & resample\\_result & task\\_id & learner\\_id & resampling\\_id & iters & surv.graf\\\\\n",
       " <int> & <list> & <chr> & <chr> & <chr> & <int> & <dbl>\\\\\n",
       "\\hline\n",
       "\t 1 & <environment: 0x55b2cb4252d8> & df1 & surv.mboost & cv & 3 & 0.1465453\\\\\n",
       "\\end{tabular}\n"
      ],
      "text/markdown": [
       "\n",
       "A data.table: 1 × 7\n",
       "\n",
       "| nr &lt;int&gt; | resample_result &lt;list&gt; | task_id &lt;chr&gt; | learner_id &lt;chr&gt; | resampling_id &lt;chr&gt; | iters &lt;int&gt; | surv.graf &lt;dbl&gt; |\n",
       "|---|---|---|---|---|---|---|\n",
       "| 1 | &lt;environment: 0x55b2cb4252d8&gt; | df1 | surv.mboost | cv | 3 | 0.1465453 |\n",
       "\n"
      ],
      "text/plain": [
       "  nr resample_result               task_id learner_id  resampling_id iters\n",
       "1 1  <environment: 0x55b2cb4252d8> df1     surv.mboost cv            3    \n",
       "  surv.graf\n",
       "1 0.1465453"
      ]
     },
     "metadata": {},
     "output_type": "display_data"
    }
   ],
   "source": [
    "library(\"mlr3\")\n",
    "library(\"mlr3proba\")\n",
    "library(\"mlr3learners\")\n",
    "library(\"mlr3extralearners\")\n",
    "library(\"mboost\")\n",
    "library(\"mlr3tuning\")\n",
    "# read in the raw data\n",
    "train_data <- readRDS(\"~/Prediction_Challenge_T2E_ML/Data-20210107/train_data.Rds\")\n",
    "# get d1\n",
    "train_data_d1 <- train_data$d1\n",
    "## create the corresponding task as for dataframe 1\n",
    "tsks_train_d1 <- TaskSurv$new(\"df1\", backend = train_data_d1, time = \"time\", event = \"status\")\n",
    "\n",
    "learn = lrn(\"surv.mboost\", baselearner = \"bols\", family = \"weibull\")\n",
    "measure = msr(\"surv.graf\")\n",
    "set.seed(1)\n",
    "bmr = benchmark(benchmark_grid(tsks_train_d1, learn, rsmp(\"cv\", folds = 3)))\n",
    "bmr$aggregate(measure)"
   ]
  },
  {
   "cell_type": "code",
   "execution_count": 32,
   "id": "adolescent-abortion",
   "metadata": {},
   "outputs": [
    {
     "data": {
      "text/html": [
       "<strong>surv.graf:</strong> 0.033109549598834"
      ],
      "text/latex": [
       "\\textbf{surv.graf:} 0.033109549598834"
      ],
      "text/markdown": [
       "**surv.graf:** 0.033109549598834"
      ],
      "text/plain": [
       " surv.graf \n",
       "0.03310955 "
      ]
     },
     "metadata": {},
     "output_type": "display_data"
    }
   ],
   "source": []
  },
  {
   "cell_type": "code",
   "execution_count": 36,
   "id": "attractive-boundary",
   "metadata": {},
   "outputs": [
    {
     "ename": "ERROR",
     "evalue": "Error: Measure 'surv.graf' requires predict type 'distr'\n",
     "output_type": "error",
     "traceback": [
      "Error: Measure 'surv.graf' requires predict type 'distr'\nTraceback:\n",
      "1. prediction$score(msr(\"surv.graf\"))",
      "2. .__Prediction__score(self = self, private = private, super = super, \n .     measures = measures, task = task, learner = learner, train_set = train_set)",
      "3. map_dbl(measures, function(m) m$score(prediction = self, task = task, \n .     learner = learner, train_set = train_set))",
      "4. map_mold(.x, .f, NA_real_, ...)",
      "5. vapply(.x, .f, FUN.VALUE = .value, USE.NAMES = FALSE, ...)",
      "6. FUN(X[[i]], ...)",
      "7. m$score(prediction = self, task = task, learner = learner, train_set = train_set)",
      "8. .__Measure__score(self = self, private = private, super = super, \n .     prediction = prediction, task = task, learner = learner, \n .     train_set = train_set)",
      "9. stopf(\"Measure '%s' requires predict type '%s'\", self$id, self$predict_type)"
     ]
    }
   ],
   "source": [
    "library(\"mlr3\")\n",
    "library(\"mlr3proba\")\n",
    "library(\"mlr3learners\")\n",
    "library(\"mlr3extralearners\")\n",
    "library(\"mboost\")\n",
    "library(\"mlr3tuning\")\n",
    "\n",
    "task = mlr_tasks$get(\"rats\")\n",
    "learn = lrn(\"surv.mboost\", baselearner = \"bols\", family = \"weibull\") # family also can be set with 'loglog' and 'lognormal' to trigger the error\n",
    "\n",
    "train_set = sample(task$nrow, 0.8 * task$nrow)\n",
    "test_set = setdiff(seq_len(task$nrow), train_set)\n",
    "\n",
    "learn$train(task, row_ids = train_set)\n",
    "prediction = learn$predict(task, row_ids = test_set)\n",
    "\n",
    "prediction$score(msr(\"surv.graf\"))"
   ]
  },
  {
   "cell_type": "code",
   "execution_count": null,
   "id": "hollywood-assault",
   "metadata": {},
   "outputs": [],
   "source": []
  }
 ],
 "metadata": {
  "environment": {
   "name": "r-cpu.3-6.mnightly-2021-02-12-debian-10-test",
   "type": "gcloud",
   "uri": "gcr.io/deeplearning-platform-release/r-cpu.3-6:mnightly-2021-02-12-debian-10-test"
  },
  "kernelspec": {
   "display_name": "R",
   "language": "R",
   "name": "ir"
  },
  "language_info": {
   "codemirror_mode": "r",
   "file_extension": ".r",
   "mimetype": "text/x-r-source",
   "name": "R",
   "pygments_lexer": "r",
   "version": "3.6.3"
  }
 },
 "nbformat": 4,
 "nbformat_minor": 5
}
